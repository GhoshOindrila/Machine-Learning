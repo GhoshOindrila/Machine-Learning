{
 "cells": [
  {
   "cell_type": "markdown",
   "metadata": {
    "colab_type": "text",
    "id": "cT9KaPWRTFC_"
   },
   "source": [
    "# Assignment 2: Spam Classification with SVM"
   ]
  },
  {
   "cell_type": "markdown",
   "metadata": {
    "colab_type": "text",
    "id": "pV4VcHwsTFDA"
   },
   "source": [
    "### CS 6316 Machine Learning - Department of Computer Science - University of Virginia\n",
    "*Many email services today provide spam filters that are able to classify emails into spam and non-spam email with high accuracy. In this part of the assignment, you will use SVMs to build your own spam filter. For references, you may refer to my [lecture 6](https://drive.google.com/open?id=1CeBhepjDKBaFBq2BZq-zNQs-MC8ll7aL4qAF8TJ24FM) and [lecture 6b](https://drive.google.com/open?id=13BidUAs_c2QdZkf92axt2S748sbnbI9Hgxg-fzb-OuU) or Chapter 5 of the textbook if you need additional sample codes to help with your assignment. For deliverables, you must write code in Python and submit **this** Jupyter Notebook file (.ipynb) to earn a total of 100 pts. You will gain points depending on how you perform in the following sections.*\n"
   ]
  },
  {
   "cell_type": "markdown",
   "metadata": {
    "colab_type": "text",
    "id": "M2Wv38KtTFDC"
   },
   "source": [
    "---\n",
    "## 1. PRE-PROCESSING THE DATA (15 pts)\n",
    "\n",
    "**Data Acquiring:** Download the dataset from https://archive.ics.uci.edu/ml/datasets/Spambase\n",
    "\n",
    "**Data Splitting:** Put data into the format needed for SVM, then split it into 80% training, 20% testing (each should have approximately the same proportion of position and negative examples).\n",
    "\n",
    "**Data Discovery:** Plot out all correlations among the features. You may notice some features are more correlated with your predicted value than other. This information will help you confirm that weights of your regression model later on.\n",
    "\n",
    "**Data Cleaning:** If your dataset has some missing values, make sure you are able to fill those values with the Imputer class. \n",
    "\n",
    "**Feature Scaling** You can use the standard Scikit-Learn library can write some codes to normalize the value of each features as follow:\n",
    "\n",
    "* Subtract the mean value of each feature from the dataset\n",
    "* Scale (divide) the feature values by their respective standard deviation"
   ]
  },
  {
   "cell_type": "code",
   "execution_count": 1,
   "metadata": {
    "colab": {},
    "colab_type": "code",
    "id": "daDNDC5YTFDC"
   },
   "outputs": [
    {
     "data": {
      "text/html": [
       "<div>\n",
       "<style scoped>\n",
       "    .dataframe tbody tr th:only-of-type {\n",
       "        vertical-align: middle;\n",
       "    }\n",
       "\n",
       "    .dataframe tbody tr th {\n",
       "        vertical-align: top;\n",
       "    }\n",
       "\n",
       "    .dataframe thead th {\n",
       "        text-align: right;\n",
       "    }\n",
       "</style>\n",
       "<table border=\"1\" class=\"dataframe\">\n",
       "  <thead>\n",
       "    <tr style=\"text-align: right;\">\n",
       "      <th></th>\n",
       "      <th>word_freq_make</th>\n",
       "      <th>word_freq_address</th>\n",
       "      <th>word_freq_all</th>\n",
       "      <th>word_freq_3d</th>\n",
       "      <th>word_freq_our</th>\n",
       "      <th>word_freq_over</th>\n",
       "      <th>word_freq_remove</th>\n",
       "      <th>word_freq_internet</th>\n",
       "      <th>word_freq_order</th>\n",
       "      <th>word_freq_mail</th>\n",
       "      <th>...</th>\n",
       "      <th>char_freq_;</th>\n",
       "      <th>char_freq_(</th>\n",
       "      <th>char_freq_[</th>\n",
       "      <th>char_freq_!</th>\n",
       "      <th>char_freq_$</th>\n",
       "      <th>char_freq_#</th>\n",
       "      <th>capital_run_length_average</th>\n",
       "      <th>capital_run_length_longest</th>\n",
       "      <th>capital_run_length_total</th>\n",
       "      <th>spam</th>\n",
       "    </tr>\n",
       "  </thead>\n",
       "  <tbody>\n",
       "    <tr>\n",
       "      <th>0</th>\n",
       "      <td>0.00</td>\n",
       "      <td>0.64</td>\n",
       "      <td>0.64</td>\n",
       "      <td>0.0</td>\n",
       "      <td>0.32</td>\n",
       "      <td>0.00</td>\n",
       "      <td>0.00</td>\n",
       "      <td>0.00</td>\n",
       "      <td>0.00</td>\n",
       "      <td>0.00</td>\n",
       "      <td>...</td>\n",
       "      <td>0.00</td>\n",
       "      <td>0.000</td>\n",
       "      <td>0.0</td>\n",
       "      <td>0.778</td>\n",
       "      <td>0.000</td>\n",
       "      <td>0.000</td>\n",
       "      <td>3.756</td>\n",
       "      <td>61</td>\n",
       "      <td>278</td>\n",
       "      <td>1</td>\n",
       "    </tr>\n",
       "    <tr>\n",
       "      <th>1</th>\n",
       "      <td>0.21</td>\n",
       "      <td>0.28</td>\n",
       "      <td>0.50</td>\n",
       "      <td>0.0</td>\n",
       "      <td>0.14</td>\n",
       "      <td>0.28</td>\n",
       "      <td>0.21</td>\n",
       "      <td>0.07</td>\n",
       "      <td>0.00</td>\n",
       "      <td>0.94</td>\n",
       "      <td>...</td>\n",
       "      <td>0.00</td>\n",
       "      <td>0.132</td>\n",
       "      <td>0.0</td>\n",
       "      <td>0.372</td>\n",
       "      <td>0.180</td>\n",
       "      <td>0.048</td>\n",
       "      <td>5.114</td>\n",
       "      <td>101</td>\n",
       "      <td>1028</td>\n",
       "      <td>1</td>\n",
       "    </tr>\n",
       "    <tr>\n",
       "      <th>2</th>\n",
       "      <td>0.06</td>\n",
       "      <td>0.00</td>\n",
       "      <td>0.71</td>\n",
       "      <td>0.0</td>\n",
       "      <td>1.23</td>\n",
       "      <td>0.19</td>\n",
       "      <td>0.19</td>\n",
       "      <td>0.12</td>\n",
       "      <td>0.64</td>\n",
       "      <td>0.25</td>\n",
       "      <td>...</td>\n",
       "      <td>0.01</td>\n",
       "      <td>0.143</td>\n",
       "      <td>0.0</td>\n",
       "      <td>0.276</td>\n",
       "      <td>0.184</td>\n",
       "      <td>0.010</td>\n",
       "      <td>9.821</td>\n",
       "      <td>485</td>\n",
       "      <td>2259</td>\n",
       "      <td>1</td>\n",
       "    </tr>\n",
       "    <tr>\n",
       "      <th>3</th>\n",
       "      <td>0.00</td>\n",
       "      <td>0.00</td>\n",
       "      <td>0.00</td>\n",
       "      <td>0.0</td>\n",
       "      <td>0.63</td>\n",
       "      <td>0.00</td>\n",
       "      <td>0.31</td>\n",
       "      <td>0.63</td>\n",
       "      <td>0.31</td>\n",
       "      <td>0.63</td>\n",
       "      <td>...</td>\n",
       "      <td>0.00</td>\n",
       "      <td>0.137</td>\n",
       "      <td>0.0</td>\n",
       "      <td>0.137</td>\n",
       "      <td>0.000</td>\n",
       "      <td>0.000</td>\n",
       "      <td>3.537</td>\n",
       "      <td>40</td>\n",
       "      <td>191</td>\n",
       "      <td>1</td>\n",
       "    </tr>\n",
       "    <tr>\n",
       "      <th>4</th>\n",
       "      <td>0.00</td>\n",
       "      <td>0.00</td>\n",
       "      <td>0.00</td>\n",
       "      <td>0.0</td>\n",
       "      <td>0.63</td>\n",
       "      <td>0.00</td>\n",
       "      <td>0.31</td>\n",
       "      <td>0.63</td>\n",
       "      <td>0.31</td>\n",
       "      <td>0.63</td>\n",
       "      <td>...</td>\n",
       "      <td>0.00</td>\n",
       "      <td>0.135</td>\n",
       "      <td>0.0</td>\n",
       "      <td>0.135</td>\n",
       "      <td>0.000</td>\n",
       "      <td>0.000</td>\n",
       "      <td>3.537</td>\n",
       "      <td>40</td>\n",
       "      <td>191</td>\n",
       "      <td>1</td>\n",
       "    </tr>\n",
       "  </tbody>\n",
       "</table>\n",
       "<p>5 rows × 58 columns</p>\n",
       "</div>"
      ],
      "text/plain": [
       "   word_freq_make  word_freq_address  word_freq_all  word_freq_3d  \\\n",
       "0            0.00               0.64           0.64           0.0   \n",
       "1            0.21               0.28           0.50           0.0   \n",
       "2            0.06               0.00           0.71           0.0   \n",
       "3            0.00               0.00           0.00           0.0   \n",
       "4            0.00               0.00           0.00           0.0   \n",
       "\n",
       "   word_freq_our  word_freq_over  word_freq_remove  word_freq_internet  \\\n",
       "0           0.32            0.00              0.00                0.00   \n",
       "1           0.14            0.28              0.21                0.07   \n",
       "2           1.23            0.19              0.19                0.12   \n",
       "3           0.63            0.00              0.31                0.63   \n",
       "4           0.63            0.00              0.31                0.63   \n",
       "\n",
       "   word_freq_order  word_freq_mail  ...   char_freq_;  char_freq_(  \\\n",
       "0             0.00            0.00  ...          0.00        0.000   \n",
       "1             0.00            0.94  ...          0.00        0.132   \n",
       "2             0.64            0.25  ...          0.01        0.143   \n",
       "3             0.31            0.63  ...          0.00        0.137   \n",
       "4             0.31            0.63  ...          0.00        0.135   \n",
       "\n",
       "   char_freq_[  char_freq_!  char_freq_$  char_freq_#  \\\n",
       "0          0.0        0.778        0.000        0.000   \n",
       "1          0.0        0.372        0.180        0.048   \n",
       "2          0.0        0.276        0.184        0.010   \n",
       "3          0.0        0.137        0.000        0.000   \n",
       "4          0.0        0.135        0.000        0.000   \n",
       "\n",
       "   capital_run_length_average  capital_run_length_longest  \\\n",
       "0                       3.756                          61   \n",
       "1                       5.114                         101   \n",
       "2                       9.821                         485   \n",
       "3                       3.537                          40   \n",
       "4                       3.537                          40   \n",
       "\n",
       "   capital_run_length_total  spam  \n",
       "0                       278     1  \n",
       "1                      1028     1  \n",
       "2                      2259     1  \n",
       "3                       191     1  \n",
       "4                       191     1  \n",
       "\n",
       "[5 rows x 58 columns]"
      ]
     },
     "execution_count": 1,
     "metadata": {},
     "output_type": "execute_result"
    }
   ],
   "source": [
    "# You might want to use the following package\n",
    "from sklearn.model_selection import train_test_split\n",
    "from pandas.plotting import scatter_matrix # optional\n",
    "from sklearn.preprocessing import Imputer\n",
    "from sklearn.preprocessing import LabelEncoder\n",
    "from sklearn.preprocessing import OneHotEncoder\n",
    "from sklearn.pipeline import Pipeline\n",
    "from sklearn.preprocessing import StandardScaler\n",
    "import pandas as pd\n",
    "import numpy as np\n",
    "from sklearn.utils import shuffle\n",
    "\n",
    "# Your code goes here for this section.\n",
    "df = pd.read_csv(\"spambase.data\", delimiter=',',header=None)\n",
    "df.columns = ['word_freq_make','word_freq_address','word_freq_all','word_freq_3d','word_freq_our','word_freq_over','word_freq_remove','word_freq_internet','word_freq_order','word_freq_mail','word_freq_receive','word_freq_will','word_freq_people','word_freq_report','word_freq_addresses','word_freq_free','word_freq_business','word_freq_email','word_freq_you','word_freq_credit','word_freq_your','word_freq_font','word_freq_000','word_freq_money','word_freq_hp','word_freq_hpl','word_freq_george','word_freq_650','word_freq_lab','word_freq_labs','word_freq_telnet','word_freq_857','word_freq_data','word_freq_415','word_freq_85','word_freq_technology','word_freq_1999','word_freq_parts','word_freq_pm','word_freq_direct','word_freq_cs','word_freq_meeting','word_freq_original','word_freq_project','word_freq_re','word_freq_edu','word_freq_table','word_freq_conference','char_freq_;','char_freq_(','char_freq_[','char_freq_!','char_freq_$','char_freq_#','capital_run_length_average','capital_run_length_longest','capital_run_length_total','spam']\n",
    "df.head()"
   ]
  },
  {
   "cell_type": "code",
   "execution_count": 2,
   "metadata": {},
   "outputs": [
    {
     "name": "stdout",
     "output_type": "stream",
     "text": [
      "<class 'pandas.core.frame.DataFrame'>\n",
      "RangeIndex: 4601 entries, 0 to 4600\n",
      "Data columns (total 58 columns):\n",
      "word_freq_make                4601 non-null float64\n",
      "word_freq_address             4601 non-null float64\n",
      "word_freq_all                 4601 non-null float64\n",
      "word_freq_3d                  4601 non-null float64\n",
      "word_freq_our                 4601 non-null float64\n",
      "word_freq_over                4601 non-null float64\n",
      "word_freq_remove              4601 non-null float64\n",
      "word_freq_internet            4601 non-null float64\n",
      "word_freq_order               4601 non-null float64\n",
      "word_freq_mail                4601 non-null float64\n",
      "word_freq_receive             4601 non-null float64\n",
      "word_freq_will                4601 non-null float64\n",
      "word_freq_people              4601 non-null float64\n",
      "word_freq_report              4601 non-null float64\n",
      "word_freq_addresses           4601 non-null float64\n",
      "word_freq_free                4601 non-null float64\n",
      "word_freq_business            4601 non-null float64\n",
      "word_freq_email               4601 non-null float64\n",
      "word_freq_you                 4601 non-null float64\n",
      "word_freq_credit              4601 non-null float64\n",
      "word_freq_your                4601 non-null float64\n",
      "word_freq_font                4601 non-null float64\n",
      "word_freq_000                 4601 non-null float64\n",
      "word_freq_money               4601 non-null float64\n",
      "word_freq_hp                  4601 non-null float64\n",
      "word_freq_hpl                 4601 non-null float64\n",
      "word_freq_george              4601 non-null float64\n",
      "word_freq_650                 4601 non-null float64\n",
      "word_freq_lab                 4601 non-null float64\n",
      "word_freq_labs                4601 non-null float64\n",
      "word_freq_telnet              4601 non-null float64\n",
      "word_freq_857                 4601 non-null float64\n",
      "word_freq_data                4601 non-null float64\n",
      "word_freq_415                 4601 non-null float64\n",
      "word_freq_85                  4601 non-null float64\n",
      "word_freq_technology          4601 non-null float64\n",
      "word_freq_1999                4601 non-null float64\n",
      "word_freq_parts               4601 non-null float64\n",
      "word_freq_pm                  4601 non-null float64\n",
      "word_freq_direct              4601 non-null float64\n",
      "word_freq_cs                  4601 non-null float64\n",
      "word_freq_meeting             4601 non-null float64\n",
      "word_freq_original            4601 non-null float64\n",
      "word_freq_project             4601 non-null float64\n",
      "word_freq_re                  4601 non-null float64\n",
      "word_freq_edu                 4601 non-null float64\n",
      "word_freq_table               4601 non-null float64\n",
      "word_freq_conference          4601 non-null float64\n",
      "char_freq_;                   4601 non-null float64\n",
      "char_freq_(                   4601 non-null float64\n",
      "char_freq_[                   4601 non-null float64\n",
      "char_freq_!                   4601 non-null float64\n",
      "char_freq_$                   4601 non-null float64\n",
      "char_freq_#                   4601 non-null float64\n",
      "capital_run_length_average    4601 non-null float64\n",
      "capital_run_length_longest    4601 non-null int64\n",
      "capital_run_length_total      4601 non-null int64\n",
      "spam                          4601 non-null int64\n",
      "dtypes: float64(55), int64(3)\n",
      "memory usage: 2.0 MB\n"
     ]
    }
   ],
   "source": [
    "df.info()"
   ]
  },
  {
   "cell_type": "code",
   "execution_count": 3,
   "metadata": {},
   "outputs": [
    {
     "data": {
      "text/plain": [
       "word_freq_make                False\n",
       "word_freq_address             False\n",
       "word_freq_all                 False\n",
       "word_freq_3d                  False\n",
       "word_freq_our                 False\n",
       "word_freq_over                False\n",
       "word_freq_remove              False\n",
       "word_freq_internet            False\n",
       "word_freq_order               False\n",
       "word_freq_mail                False\n",
       "word_freq_receive             False\n",
       "word_freq_will                False\n",
       "word_freq_people              False\n",
       "word_freq_report              False\n",
       "word_freq_addresses           False\n",
       "word_freq_free                False\n",
       "word_freq_business            False\n",
       "word_freq_email               False\n",
       "word_freq_you                 False\n",
       "word_freq_credit              False\n",
       "word_freq_your                False\n",
       "word_freq_font                False\n",
       "word_freq_000                 False\n",
       "word_freq_money               False\n",
       "word_freq_hp                  False\n",
       "word_freq_hpl                 False\n",
       "word_freq_george              False\n",
       "word_freq_650                 False\n",
       "word_freq_lab                 False\n",
       "word_freq_labs                False\n",
       "word_freq_telnet              False\n",
       "word_freq_857                 False\n",
       "word_freq_data                False\n",
       "word_freq_415                 False\n",
       "word_freq_85                  False\n",
       "word_freq_technology          False\n",
       "word_freq_1999                False\n",
       "word_freq_parts               False\n",
       "word_freq_pm                  False\n",
       "word_freq_direct              False\n",
       "word_freq_cs                  False\n",
       "word_freq_meeting             False\n",
       "word_freq_original            False\n",
       "word_freq_project             False\n",
       "word_freq_re                  False\n",
       "word_freq_edu                 False\n",
       "word_freq_table               False\n",
       "word_freq_conference          False\n",
       "char_freq_;                   False\n",
       "char_freq_(                   False\n",
       "char_freq_[                   False\n",
       "char_freq_!                   False\n",
       "char_freq_$                   False\n",
       "char_freq_#                   False\n",
       "capital_run_length_average    False\n",
       "capital_run_length_longest    False\n",
       "capital_run_length_total      False\n",
       "spam                          False\n",
       "dtype: bool"
      ]
     },
     "execution_count": 3,
     "metadata": {},
     "output_type": "execute_result"
    }
   ],
   "source": [
    "df.isna().any()"
   ]
  },
  {
   "cell_type": "code",
   "execution_count": 4,
   "metadata": {},
   "outputs": [
    {
     "data": {
      "text/plain": [
       "word_freq_make                False\n",
       "word_freq_address             False\n",
       "word_freq_all                 False\n",
       "word_freq_3d                  False\n",
       "word_freq_our                 False\n",
       "word_freq_over                False\n",
       "word_freq_remove              False\n",
       "word_freq_internet            False\n",
       "word_freq_order               False\n",
       "word_freq_mail                False\n",
       "word_freq_receive             False\n",
       "word_freq_will                False\n",
       "word_freq_people              False\n",
       "word_freq_report              False\n",
       "word_freq_addresses           False\n",
       "word_freq_free                False\n",
       "word_freq_business            False\n",
       "word_freq_email               False\n",
       "word_freq_you                 False\n",
       "word_freq_credit              False\n",
       "word_freq_your                False\n",
       "word_freq_font                False\n",
       "word_freq_000                 False\n",
       "word_freq_money               False\n",
       "word_freq_hp                  False\n",
       "word_freq_hpl                 False\n",
       "word_freq_george              False\n",
       "word_freq_650                 False\n",
       "word_freq_lab                 False\n",
       "word_freq_labs                False\n",
       "word_freq_telnet              False\n",
       "word_freq_857                 False\n",
       "word_freq_data                False\n",
       "word_freq_415                 False\n",
       "word_freq_85                  False\n",
       "word_freq_technology          False\n",
       "word_freq_1999                False\n",
       "word_freq_parts               False\n",
       "word_freq_pm                  False\n",
       "word_freq_direct              False\n",
       "word_freq_cs                  False\n",
       "word_freq_meeting             False\n",
       "word_freq_original            False\n",
       "word_freq_project             False\n",
       "word_freq_re                  False\n",
       "word_freq_edu                 False\n",
       "word_freq_table               False\n",
       "word_freq_conference          False\n",
       "char_freq_;                   False\n",
       "char_freq_(                   False\n",
       "char_freq_[                   False\n",
       "char_freq_!                   False\n",
       "char_freq_$                   False\n",
       "char_freq_#                   False\n",
       "capital_run_length_average    False\n",
       "capital_run_length_longest    False\n",
       "capital_run_length_total      False\n",
       "spam                          False\n",
       "dtype: bool"
      ]
     },
     "execution_count": 4,
     "metadata": {},
     "output_type": "execute_result"
    }
   ],
   "source": [
    "df.isnull().any()"
   ]
  },
  {
   "cell_type": "code",
   "execution_count": 5,
   "metadata": {},
   "outputs": [],
   "source": [
    "corr_matrix = df.corr()"
   ]
  },
  {
   "cell_type": "code",
   "execution_count": 6,
   "metadata": {},
   "outputs": [
    {
     "data": {
      "text/plain": [
       "spam                          1.000000\n",
       "word_freq_your                0.383234\n",
       "word_freq_000                 0.334787\n",
       "word_freq_remove              0.332117\n",
       "char_freq_$                   0.323629\n",
       "word_freq_you                 0.273651\n",
       "word_freq_free                0.263215\n",
       "word_freq_business            0.263204\n",
       "capital_run_length_total      0.249164\n",
       "word_freq_our                 0.241920\n",
       "char_freq_!                   0.241888\n",
       "word_freq_receive             0.234529\n",
       "word_freq_over                0.232604\n",
       "word_freq_order               0.231551\n",
       "word_freq_money               0.216111\n",
       "capital_run_length_longest    0.216097\n",
       "word_freq_internet            0.206808\n",
       "word_freq_email               0.204208\n",
       "word_freq_all                 0.196988\n",
       "word_freq_addresses           0.195902\n",
       "word_freq_credit              0.189761\n",
       "word_freq_mail                0.138962\n",
       "word_freq_people              0.132927\n",
       "word_freq_make                0.126208\n",
       "capital_run_length_average    0.109999\n",
       "word_freq_font                0.091860\n",
       "char_freq_#                   0.065067\n",
       "word_freq_report              0.060027\n",
       "word_freq_3d                  0.057371\n",
       "word_freq_will                0.007741\n",
       "word_freq_address            -0.030224\n",
       "word_freq_parts              -0.031035\n",
       "word_freq_table              -0.044679\n",
       "char_freq_;                  -0.059630\n",
       "char_freq_[                  -0.064709\n",
       "word_freq_direct             -0.064801\n",
       "word_freq_conference         -0.084020\n",
       "char_freq_(                  -0.089672\n",
       "word_freq_project            -0.094594\n",
       "word_freq_cs                 -0.097375\n",
       "word_freq_415                -0.112754\n",
       "word_freq_857                -0.114214\n",
       "word_freq_data               -0.119931\n",
       "word_freq_pm                 -0.122831\n",
       "word_freq_telnet             -0.126912\n",
       "word_freq_lab                -0.133523\n",
       "word_freq_original           -0.135664\n",
       "word_freq_technology         -0.136134\n",
       "word_freq_meeting            -0.136615\n",
       "word_freq_re                 -0.140408\n",
       "word_freq_edu                -0.146138\n",
       "word_freq_85                 -0.149225\n",
       "word_freq_650                -0.158800\n",
       "word_freq_labs               -0.171095\n",
       "word_freq_1999               -0.178045\n",
       "word_freq_george             -0.183404\n",
       "word_freq_hpl                -0.232968\n",
       "word_freq_hp                 -0.256723\n",
       "Name: spam, dtype: float64"
      ]
     },
     "execution_count": 6,
     "metadata": {},
     "output_type": "execute_result"
    }
   ],
   "source": [
    "corr_matrix[\"spam\"].sort_values(ascending=False)"
   ]
  },
  {
   "cell_type": "code",
   "execution_count": 7,
   "metadata": {},
   "outputs": [],
   "source": [
    "df_x = df\n",
    "df_x = df_x.drop([\"spam\"],axis = 1)\n",
    "df_y = df[\"spam\"]"
   ]
  },
  {
   "cell_type": "code",
   "execution_count": 8,
   "metadata": {},
   "outputs": [],
   "source": [
    "X_train, X_test, y_train, y_test = train_test_split(df_x, df_y, test_size=0.2, stratify=df_y)"
   ]
  },
  {
   "cell_type": "code",
   "execution_count": 9,
   "metadata": {},
   "outputs": [],
   "source": [
    "scaler = StandardScaler()\n",
    "X_train = scaler.fit_transform(X_train)\n",
    "X_test = scaler.fit_transform(X_test)"
   ]
  },
  {
   "cell_type": "markdown",
   "metadata": {},
   "source": [
    "As we could see there were no missing or null values present neither any categorical data present, hence we do not need to Impute or encode our data. However as all 57 features are not of the same scale, we had to scale our dataset using Standard Scalar. Before scaling the data we had split the data in the ratio 4:1 in train and test data using startify so that the data is split with same proportions of negatives and postives, then individually scaled them."
   ]
  },
  {
   "cell_type": "markdown",
   "metadata": {
    "colab_type": "text",
    "id": "ZWlTAwYRTFDG"
   },
   "source": [
    "- - -\n",
    "## 2. TRAINING SVM FOR SPAM CLASSIFICATION (15 pts)\n",
    "\n",
    "Run your linear SVM classifier on the training data, and test the resulting model on the test data. In this section, you may use the default **loss function** (hinge) and **default** value of the C hyperparameter (=1.0):\n",
    "\n",
    "* Report accuracy, precision, recall?\n",
    "* Create an ROC curve for this SVM on the test data, using 200 or more evenly spaced thresholds. You may use library function calls to create the ROC curve?\n",
    "\n",
    "**Implementation Notes:** You do NOT need to add a column of 1's to the $\\mathbf{\n",
    "x}$ matrix to have an intercept term"
   ]
  },
  {
   "cell_type": "code",
   "execution_count": 10,
   "metadata": {
    "colab": {},
    "colab_type": "code",
    "id": "2dgbTPxRTFDH"
   },
   "outputs": [],
   "source": [
    "from sklearn.svm import LinearSVC\n",
    "\n",
    "# Training your svm here\n",
    "svm_clf = LinearSVC(C=1, loss=\"hinge\", random_state=42)\n",
    "\n",
    "svm_clf.fit(X_train, y_train)\n",
    "y_pred=svm_clf.predict(X_test)\n",
    "\n",
    "# Testing your svm here\n",
    "from sklearn.metrics import accuracy_score\n",
    "from sklearn.metrics import precision_score, recall_score\n",
    "from sklearn.metrics import roc_curve\n",
    "\n",
    "accuracy=accuracy_score(y_test, y_pred)*100\n",
    "precision=precision_score(y_test, y_pred)*100\n",
    "recall=recall_score(y_test, y_pred)*100\n",
    "y_scores = svm_clf.decision_function(X_test)\n",
    "fpr, tpr, thresholds = roc_curve(y_test, y_scores)"
   ]
  },
  {
   "cell_type": "code",
   "execution_count": 11,
   "metadata": {},
   "outputs": [
    {
     "name": "stdout",
     "output_type": "stream",
     "text": [
      "accuracy = 90.87947882736157\n",
      "precision = 88.85793871866295\n",
      "recall = 87.87878787878788\n"
     ]
    }
   ],
   "source": [
    "print(\"accuracy =\", accuracy)\n",
    "print(\"precision =\", precision)\n",
    "print(\"recall =\", recall)"
   ]
  },
  {
   "cell_type": "code",
   "execution_count": 13,
   "metadata": {},
   "outputs": [
    {
     "data": {
      "image/png": "[encoded data removed]",
      "text/plain": [
       "<Figure size 576x432 with 1 Axes>"
      ]
     },
     "metadata": {},
     "output_type": "display_data"
    }
   ],
   "source": [
    "import matplotlib.pyplot as plt\n",
    "plt.figure(figsize=(8, 6))\n",
    "plt.plot(fpr, tpr, linewidth=2)\n",
    "#plt.plot([0, 1], [0, 1], 'k--')\n",
    "plt.axis=(0, 1, 0, 1)\n",
    "plt.xlabel('False Positive Rate', fontsize=16)\n",
    "plt.ylabel('True Positive Rate', fontsize=16)\n",
    "plt.show()"
   ]
  },
  {
   "cell_type": "markdown",
   "metadata": {
    "colab_type": "text",
    "id": "E8n-z-pdTFDK"
   },
   "source": [
    "- - -\n",
    "## 3. TUNING C FOR LINEAR SVM (15 pts)\n",
    "In this part of the assignment, you will try using different values of the C parameter with SVMs. Your task is to try different values of C on this dataset. For example, when C is small, you should find that the SVM puts the decision boundary in the gap between the two datasets and misclassifies the data point. When C is large, you should find that the SVM now classifies every single example correctly, but has a decision boundary that does not appear to be a natural fit for the data. \n",
    "\n",
    "In a 2-D feature space of your choice, you must be able to plot out the decision boundary of SVM for different values of C to earn credit for this section. Depends on your observation on the dataset, you must provide some justifications on the reason you select a certain value of C to tradeoff margin and data violation. "
   ]
  },
  {
   "cell_type": "markdown",
   "metadata": {},
   "source": [
    "In this section we have picked up 6 values for the parameter C - 0.001, 0.005, 0.01, 0.1, 1, 10."
   ]
  },
  {
   "cell_type": "code",
   "execution_count": 14,
   "metadata": {
    "colab": {},
    "colab_type": "code",
    "id": "OKZhAtOvTFDL"
   },
   "outputs": [
    {
     "data": {
      "text/plain": [
       "LinearSVC(C=10, class_weight=None, dual=True, fit_intercept=True,\n",
       "     intercept_scaling=1, loss='hinge', max_iter=1000, multi_class='ovr',\n",
       "     penalty='l2', random_state=42, tol=0.0001, verbose=0)"
      ]
     },
     "execution_count": 14,
     "metadata": {},
     "output_type": "execute_result"
    }
   ],
   "source": [
    "# Use the following code to plot out your hyperparameter C\n",
    "# You may plot multiple decision boundary corresponding to different C\n",
    "import matplotlib\n",
    "import matplotlib.pyplot as plt\n",
    "plt.rcParams['axes.labelsize'] = 14\n",
    "plt.rcParams['xtick.labelsize'] = 12\n",
    "plt.rcParams['ytick.labelsize'] = 12\n",
    "\n",
    "# plt.figure(figsize=(12,3))\n",
    "# plt.subplot(121) \n",
    "# plt.xlabel(\"Feature 1\", fontsize=14)\n",
    "# plt.ylabel(\"Feature 2\", fontsize=14)\n",
    "\n",
    "f1=df.columns.get_loc(\"word_freq_your\")\n",
    "f2=df.columns.get_loc(\"word_freq_000\")\n",
    "\n",
    "svm_clf1 = LinearSVC(C=0.001, loss=\"hinge\", random_state=42)\n",
    "svm_clf2 = LinearSVC(C=0.005, loss=\"hinge\", random_state=42)\n",
    "svm_clf3 = LinearSVC(C=0.01, loss=\"hinge\", random_state=42)\n",
    "svm_clf4 = LinearSVC(C=0.1, loss=\"hinge\", random_state=42)\n",
    "svm_clf5 = LinearSVC(C=1, loss=\"hinge\", random_state=42)\n",
    "svm_clf6 = LinearSVC(C=10, loss=\"hinge\", random_state=42)\n",
    "svm_clf1.fit(X_train, y_train)\n",
    "svm_clf2.fit(X_train, y_train)\n",
    "svm_clf3.fit(X_train, y_train)\n",
    "svm_clf4.fit(X_train, y_train)\n",
    "svm_clf5.fit(X_train, y_train)\n",
    "svm_clf6.fit(X_train, y_train)"
   ]
  },
  {
   "cell_type": "markdown",
   "metadata": {},
   "source": [
    "From the correlation in the 1st section we observed that features - \"word_freq_your\" and \"word_freq_000\" were highly correlated feature to our label y. So we try to plot our decision boundary on these two features as we need to plot it in 2D plot."
   ]
  },
  {
   "cell_type": "code",
   "execution_count": 15,
   "metadata": {},
   "outputs": [],
   "source": [
    "y_pred1=svm_clf1.predict(X_test)\n",
    "y_pred2=svm_clf2.predict(X_test)\n",
    "y_pred3=svm_clf3.predict(X_test)\n",
    "y_pred4=svm_clf4.predict(X_test)\n",
    "y_pred5=svm_clf5.predict(X_test)\n",
    "y_pred6=svm_clf6.predict(X_test)"
   ]
  },
  {
   "cell_type": "code",
   "execution_count": 16,
   "metadata": {},
   "outputs": [],
   "source": [
    "def plot_svc_decision_boundary(svm_clf, xmin, xmax):\n",
    "    w = svm_clf.coef_[0]\n",
    "    b = svm_clf.intercept_[0]\n",
    "\n",
    "    x0 = np.linspace(xmin, xmax, 200)\n",
    "    decision_boundary = -w[f1]/w[f2] * x0 - b/w[f2]\n",
    "    \n",
    "    margin = 1/w[f2]\n",
    "    gutter_up = decision_boundary + margin\n",
    "    gutter_down = decision_boundary - margin\n",
    "\n",
    "    svs = svm_clf.support_vectors_\n",
    "    plt.scatter(svs[:, 0], svs[:, 1], s=100, facecolors='#FFAAAA')\n",
    "    plt.plot(x0, decision_boundary, \"k-\", linewidth=2)\n",
    "    plt.plot(x0, gutter_up, \"k--\", linewidth=2)\n",
    "    plt.plot(x0, gutter_down, \"k--\", linewidth=2)"
   ]
  },
  {
   "cell_type": "code",
   "execution_count": 17,
   "metadata": {},
   "outputs": [],
   "source": [
    "# Convert to unscaled parameters\n",
    "b1 = svm_clf1.decision_function([-scaler.mean_ / scaler.scale_])\n",
    "b2 = svm_clf2.decision_function([-scaler.mean_ / scaler.scale_])\n",
    "b3 = svm_clf3.decision_function([-scaler.mean_ / scaler.scale_])\n",
    "b4 = svm_clf4.decision_function([-scaler.mean_ / scaler.scale_])\n",
    "b5 = svm_clf5.decision_function([-scaler.mean_ / scaler.scale_])\n",
    "b6 = svm_clf6.decision_function([-scaler.mean_ / scaler.scale_])\n",
    "w1 = svm_clf1.coef_[0] / scaler.scale_\n",
    "w2 = svm_clf2.coef_[0] / scaler.scale_\n",
    "w3 = svm_clf3.coef_[0] / scaler.scale_\n",
    "w4 = svm_clf4.coef_[0] / scaler.scale_\n",
    "w5 = svm_clf5.coef_[0] / scaler.scale_\n",
    "w6 = svm_clf6.coef_[0] / scaler.scale_\n",
    "svm_clf1.intercept_ = np.array([b1])\n",
    "svm_clf2.intercept_ = np.array([b2])\n",
    "svm_clf3.intercept_ = np.array([b3])\n",
    "svm_clf4.intercept_ = np.array([b4])\n",
    "svm_clf5.intercept_ = np.array([b5])\n",
    "svm_clf6.intercept_ = np.array([b6])\n",
    "svm_clf1.coef_ = np.array([w1])\n",
    "svm_clf2.coef_ = np.array([w2])\n",
    "svm_clf3.coef_ = np.array([w3])\n",
    "svm_clf4.coef_ = np.array([w4])\n",
    "svm_clf5.coef_ = np.array([w5])\n",
    "svm_clf6.coef_ = np.array([w6])\n",
    "\n",
    "# Find support vectors (LinearSVC does not do this automatically)\n",
    "t = y_train * 2 - 1\n",
    "support_vectors_idx1 = (t * (X_train.dot(w1) + b1) < 1).ravel()\n",
    "support_vectors_idx2 = (t * (X_train.dot(w2) + b2) < 1).ravel()\n",
    "support_vectors_idx3 = (t * (X_train.dot(w3) + b3) < 1).ravel()\n",
    "support_vectors_idx4 = (t * (X_train.dot(w4) + b4) < 1).ravel()\n",
    "support_vectors_idx5 = (t * (X_train.dot(w5) + b5) < 1).ravel()\n",
    "support_vectors_idx6 = (t * (X_train.dot(w6) + b6) < 1).ravel()\n",
    "svm_clf1.support_vectors_ = X_train[support_vectors_idx1]\n",
    "svm_clf2.support_vectors_ = X_train[support_vectors_idx2]\n",
    "svm_clf3.support_vectors_ = X_train[support_vectors_idx3]\n",
    "svm_clf4.support_vectors_ = X_train[support_vectors_idx4]\n",
    "svm_clf5.support_vectors_ = X_train[support_vectors_idx5]\n",
    "svm_clf6.support_vectors_ = X_train[support_vectors_idx6]"
   ]
  },
  {
   "cell_type": "code",
   "execution_count": 18,
   "metadata": {},
   "outputs": [
    {
     "data": {
      "image/png": "[encoded data removed]",
      "text/plain": [
       "<Figure size 864x216 with 2 Axes>"
      ]
     },
     "metadata": {},
     "output_type": "display_data"
    },
    {
     "data": {
      "image/png": "[encoded data removed]",
      "text/plain": [
       "<Figure size 864x216 with 2 Axes>"
      ]
     },
     "metadata": {},
     "output_type": "display_data"
    },
    {
     "data": {
      "image/png": "[encoded data removed]",
      "text/plain": [
       "<Figure size 864x216 with 2 Axes>"
      ]
     },
     "metadata": {},
     "output_type": "display_data"
    }
   ],
   "source": [
    "Xmin=np.amin(X_train[:,f1])\n",
    "Xmax=np.amax(X_train[:,f1])\n",
    "Ymin=np.amin(X_train[:,f2])\n",
    "Ymax=np.amax(X_train[:,f2])\n",
    "\n",
    "plt.figure(figsize=(12,3))\n",
    "plt.subplot(121)\n",
    "plt.plot(X_train[:, f1][y_train==1], X_train[:, f2][y_train==1], \"g^\", label=\"Spam\")\n",
    "plt.plot(X_train[:, f1][y_train==0], X_train[:, f2][y_train==0], \"bs\", label=\"Not Spam\")\n",
    "plot_svc_decision_boundary(svm_clf1, Xmin, Xmax)\n",
    "plt.xlabel(\"Feature 1\", fontsize=14)\n",
    "plt.ylabel(\"Feature 2\", fontsize=14)\n",
    "plt.legend(loc=\"upper left\", fontsize=14)\n",
    "plt.title(\"$C = {}$\".format(svm_clf1.C), fontsize=16)\n",
    "#plot_svc_decision_boundary(svm_clf1, Xmin, Xmax)\n",
    "plt.axis=(Xmin,Xmax,Ymin,Ymax)\n",
    "\n",
    "\n",
    "plt.subplot(122)\n",
    "plt.plot(X_train[:, f1][y_train==1], X_train[:, f2][y_train==1], \"g^\")\n",
    "plt.plot(X_train[:, f1][y_train==0], X_train[:, f2][y_train==0], \"bs\")\n",
    "plot_svc_decision_boundary(svm_clf2, Xmin, Xmax)\n",
    "plt.xlabel(\"Feature 1\", fontsize=14)\n",
    "plt.title(\"$C = {}$\".format(svm_clf2.C), fontsize=16)\n",
    "plt.axis=(Xmin,Xmax,Ymin,Ymax)\n",
    "\n",
    "\n",
    "plt.figure(figsize=(12,3))\n",
    "plt.subplot(121)\n",
    "plt.plot(X_train[:, f1][y_train==1], X_train[:, f2][y_train==1], \"g^\", label=\"Spam\")\n",
    "plt.plot(X_train[:, f1][y_train==0], X_train[:, f2][y_train==0], \"bs\", label=\"Not Spam\")\n",
    "plot_svc_decision_boundary(svm_clf3, Xmin, Xmax)\n",
    "plt.xlabel(\"Feature 1\", fontsize=14)\n",
    "plt.ylabel(\"Feature 2\", fontsize=14)\n",
    "plt.legend(loc=\"upper left\", fontsize=14)\n",
    "plt.title(\"$C = {}$\".format(svm_clf3.C), fontsize=16)\n",
    "plt.axis=(Xmin,Xmax,Ymin,Ymax)\n",
    "\n",
    "plt.subplot(122)\n",
    "plt.plot(X_train[:, f1][y_train==1], X_train[:, f2][y_train==1], \"g^\")\n",
    "plt.plot(X_train[:, f1][y_train==0], X_train[:, f2][y_train==0], \"bs\")\n",
    "plot_svc_decision_boundary(svm_clf4, Xmin, Xmax)\n",
    "plt.xlabel(\"Feature 1\", fontsize=14)\n",
    "plt.title(\"$C = {}$\".format(svm_clf4.C), fontsize=16)\n",
    "plt.axis=(Xmin,Xmax,Ymin,Ymax)\n",
    "\n",
    "plt.figure(figsize=(12,3))\n",
    "plt.subplot(121)\n",
    "plt.plot(X_train[:, f1][y_train==1], X_train[:, f2][y_train==1], \"g^\", label=\"Spam\")\n",
    "plt.plot(X_train[:, f1][y_train==0], X_train[:, f2][y_train==0], \"bs\", label=\"Not Spam\")\n",
    "plot_svc_decision_boundary(svm_clf5, Xmin, Xmax)\n",
    "plt.xlabel(\"Feature 1\", fontsize=14)\n",
    "plt.ylabel(\"Feature 2\", fontsize=14)\n",
    "plt.legend(loc=\"upper left\", fontsize=14)\n",
    "plt.title(\"$C = {}$\".format(svm_clf5.C), fontsize=16)\n",
    "plt.axis=(Xmin,Xmax,Ymin,Ymax)\n",
    "\n",
    "plt.subplot(122)\n",
    "plt.plot(X_train[:, f1][y_train==1], X_train[:, f2][y_train==1], \"g^\")\n",
    "plt.plot(X_train[:, f1][y_train==0], X_train[:, f2][y_train==0], \"bs\")\n",
    "plot_svc_decision_boundary(svm_clf6, Xmin, Xmax)\n",
    "plt.xlabel(\"Feature 1\", fontsize=14)\n",
    "plt.title(\"$C = {}$\".format(svm_clf6.C), fontsize=16)\n",
    "plt.axis=(Xmin,Xmax,Ymin,Ymax)\n",
    "\n",
    "plt.show()"
   ]
  },
  {
   "cell_type": "markdown",
   "metadata": {},
   "source": [
    "From the decision boundaries plotted for the 6 different C values, we can clearly observe that for C=0.01, we get the best decision boundary, having the maximum separation for spam and non-spam emails. So we take this value of C and test the next section."
   ]
  },
  {
   "cell_type": "markdown",
   "metadata": {
    "colab_type": "text",
    "id": "AJ9BVk7TTFDO"
   },
   "source": [
    "- - -\n",
    "## 4. SELECTING THE FEATURES WITH SVM (25 pts)\n",
    "\n",
    "Once your learned a best linear SVM in previous sections, your task in this section is to select the best features. First, you must * Obtain the weight vector $\\mathbf{w}$. Then, for the number of features $n = 2$ to 57, you will run the following (in a loop of course):\n",
    "\n",
    "* Select the set of $n$ features that have the highest $\\mathbf{w}_n$\n",
    "* Train an SVM, $SVM_n$, on all training data, only using these $n$ features with the same hyperparameter C.\n",
    "* Test $SVM_n$ on the test set (using the same $n$ features) to obtain accuracy.\n",
    "* Plot accuracy on test data vs. $n$ number of features\n",
    "\n",
    "In one paragraph, discuss the effects of feature selection including the top 5 features."
   ]
  },
  {
   "cell_type": "code",
   "execution_count": 19,
   "metadata": {
    "colab": {},
    "colab_type": "code",
    "id": "6awDwj-zTFDO"
   },
   "outputs": [],
   "source": [
    "# Your feature selection code goes here\n",
    "# For best C=0.01\n",
    "\n",
    "svm_clf = LinearSVC(C=0.01, loss=\"hinge\", random_state=42)\n",
    "svm_clf.fit(X_train, y_train)\n",
    "w = svm_clf.coef_[0] / scaler.scale_\n",
    "# Your paragraph goes here for this section"
   ]
  },
  {
   "cell_type": "code",
   "execution_count": 20,
   "metadata": {},
   "outputs": [],
   "source": [
    "ind = np.argpartition(w, -2)[-2:]\n",
    "xlen=X_train.shape[0]\n",
    "xlent=X_test.shape[0]\n",
    "accuracy_n=[]\n",
    "for i in range(2,58):\n",
    "    ind = np.argpartition(w,-i)[-i:]\n",
    "    X=np.empty([xlen,i])\n",
    "    X_t=np.empty([xlent,i])\n",
    "    if i==5:\n",
    "        top5=ind\n",
    "    for j in range(0,i):\n",
    "        X[:,j]=X_train[:, ind[j]]\n",
    "        X_t[:,j]=X_test[:, ind[j]]\n",
    "    svm_clf = LinearSVC(C=0.01, loss=\"hinge\", random_state=42)\n",
    "    svm_clf.fit(X, y_train)\n",
    "    y_pred=svm_clf.predict(X_t)\n",
    "    accuracy_n.append(accuracy_score(y_test, y_pred)*100)"
   ]
  },
  {
   "cell_type": "code",
   "execution_count": 21,
   "metadata": {},
   "outputs": [
    {
     "data": {
      "text/plain": [
       "array([53, 23,  6, 22, 52], dtype=int64)"
      ]
     },
     "execution_count": 21,
     "metadata": {},
     "output_type": "execute_result"
    }
   ],
   "source": [
    "top5"
   ]
  },
  {
   "cell_type": "code",
   "execution_count": 22,
   "metadata": {},
   "outputs": [
    {
     "name": "stdout",
     "output_type": "stream",
     "text": [
      "Top 5 features- \n"
     ]
    },
    {
     "data": {
      "text/plain": [
       "Index(['char_freq_#', 'word_freq_money', 'word_freq_remove', 'word_freq_000',\n",
       "       'char_freq_$'],\n",
       "      dtype='object')"
      ]
     },
     "execution_count": 22,
     "metadata": {},
     "output_type": "execute_result"
    }
   ],
   "source": [
    "print (\"Top 5 features- \")\n",
    "df.columns[top5]"
   ]
  },
  {
   "cell_type": "code",
   "execution_count": 23,
   "metadata": {},
   "outputs": [
    {
     "data": {
      "image/png": "[encoded data removed]",
      "text/plain": [
       "<Figure size 432x288 with 1 Axes>"
      ]
     },
     "metadata": {},
     "output_type": "display_data"
    }
   ],
   "source": [
    "feature=[0] * 56\n",
    "j=0\n",
    "for i in range(2,58):\n",
    "    feature[j]=i\n",
    "    j=j+1\n",
    "plt.xlabel('No. of features')  \n",
    "plt.ylabel('Accuracy')\n",
    "plt.title('Accuracy vs. No. of Features')\n",
    "plt.plot(feature,accuracy_n)\n",
    "plt.show()"
   ]
  },
  {
   "cell_type": "raw",
   "metadata": {},
   "source": [
    "# Accuracy vs Features\n",
    "In this section we compute the accuracy for our linear svm model with respect to the number of features selected each time. We computed the best features on the basis of their weights. We can clearly see as the number of features increased we achieved a higher accuracy. However after the 50th feature there is a point when the accuracy reaches a peak but slightly falls when we consider all 57 features.\n",
    "Also our top 5 features are -\n",
    "1.'word_freq_money',\n",
    "2.'word_freq_000',\n",
    "3.'word_freq_remove',\n",
    "4.'char_freq_$',\n",
    "5.'char_freq_#'"
   ]
  },
  {
   "cell_type": "markdown",
   "metadata": {
    "colab_type": "text",
    "id": "NaniJ-ogTFDR"
   },
   "source": [
    "- - -\n",
    "## 5. KERNELIZING SVM WITH THE GAUSSIAN RBF (30 pts)\n",
    "\n",
    "In this part of the asisgnment, you will be using SVMs to do non-linear classification. In particular, you will be using SVMs with Gaussian kernels on datasets that are not linearly separable. \n",
    "\n",
    "$\n",
    "    \\mathbf{K}_{RBF}(\\mathbf{x}^{(i)},\\mathbf{x}^{(j)}) = \\exp(-\\gamma ||\\mathbf{x}^{(i)} -\\mathbf{x}^{(j)}||^2).\n",
    "$\n",
    "\n",
    "Your task is to determine the best $C$ and $\\gamma$ hyperparameters to use, run SVM on the spam data and report the performance in metrics similar to section 2. By using the Gaussian kernel with the SVM, you will be able to learn a non-linear decision boundary that can perform reasonably well for this dataset. \n",
    "\n",
    "Finally, run the version of SVM with the best hyperparameters on the test set, and plot out the comparison in terms of accuracy, precision, and recall, and the ROC curve) to those of linear SVM in Section 3. How much your SVM classifier perform better? \n",
    "\n",
    "**Implementation Note:** When implementing cross validation to select the best C and $\\gamma$ parameter to use, you need to evaluate the error on the cross validation set. Recall that for classification, the error is defined as the fraction of the cross validation examples that were classified incorrectly.\n",
    "\n",
    "\n"
   ]
  },
  {
   "cell_type": "code",
   "execution_count": 24,
   "metadata": {
    "colab": {},
    "colab_type": "code",
    "id": "POvKiyxNTFDS"
   },
   "outputs": [
    {
     "data": {
      "text/plain": [
       "GridSearchCV(cv=5, error_score='raise',\n",
       "       estimator=SVC(C=1.0, cache_size=200, class_weight=None, coef0=0.0,\n",
       "  decision_function_shape='ovr', degree=3, gamma='auto', kernel='rbf',\n",
       "  max_iter=-1, probability=False, random_state=42, shrinking=True,\n",
       "  tol=0.001, verbose=False),\n",
       "       fit_params=None, iid=True, n_jobs=1,\n",
       "       param_grid=[{'C': [0.001, 0.005, 0.01, 0.1, 1, 10], 'gamma': [0.01, 0.1, 1, 5, 10]}],\n",
       "       pre_dispatch='2*n_jobs', refit=True, return_train_score=True,\n",
       "       scoring='roc_auc', verbose=0)"
      ]
     },
     "execution_count": 24,
     "metadata": {},
     "output_type": "execute_result"
    }
   ],
   "source": [
    "from sklearn.svm import SVC\n",
    "# hyperparams = (gamma1, C1), (gamma1, C2), (gamma2, C1), (gamma2, C2), ...\n",
    "# for gamma, C in hyperparams:\n",
    "#    rbf_kernel_svm_clf = SVC(kernel=\"rbf\", gamma=gamma, C=C))\n",
    "#    rbf_kernel_svm_clf.fit(X_cv, y_cv)\n",
    "#    # Your code to train and find the best value of C and gamma here\n",
    "\n",
    "from sklearn.model_selection import GridSearchCV\n",
    "\n",
    "param_grid = [\n",
    "    {'C': [0.001, 0.005, 0.01, 0.1, 1, 10], 'gamma': [0.01,0.1, 1, 5, 10]},\n",
    "  ]\n",
    "\n",
    "svm_clf = SVC(kernel='rbf',random_state=42)\n",
    "grid_search = GridSearchCV(svm_clf, param_grid, cv=5,\n",
    "                           scoring='roc_auc', return_train_score=True)\n",
    "grid_search.fit(X_train, y_train)"
   ]
  },
  {
   "cell_type": "code",
   "execution_count": 25,
   "metadata": {},
   "outputs": [
    {
     "data": {
      "text/plain": [
       "{'C': 10, 'gamma': 0.01}"
      ]
     },
     "execution_count": 25,
     "metadata": {},
     "output_type": "execute_result"
    }
   ],
   "source": [
    "grid_search.best_params_"
   ]
  },
  {
   "cell_type": "code",
   "execution_count": 26,
   "metadata": {},
   "outputs": [],
   "source": [
    "final_svm = grid_search.best_estimator_\n",
    "\n",
    "rbf_pred = final_svm.predict(X_test)"
   ]
  },
  {
   "cell_type": "code",
   "execution_count": 27,
   "metadata": {},
   "outputs": [
    {
     "name": "stdout",
     "output_type": "stream",
     "text": [
      "accuracy through rbf = 92.61672095548317\n",
      "precision through rbf = 91.78470254957507\n",
      "recall through rbf = 89.25619834710744\n",
      "accuracy with linear model(C=0.01) = 90.44516829533116\n",
      "precision with linear model(C=0.01) = 89.62536023054754\n",
      "recall with linear model(C=0.01) = 85.67493112947659\n"
     ]
    }
   ],
   "source": [
    "accuracy_rbf=accuracy_score(y_test, rbf_pred)*100\n",
    "precision_rbf=precision_score(y_test, rbf_pred)*100\n",
    "recall_rbf=recall_score(y_test, rbf_pred)*100\n",
    "y_scores_rbf = final_svm.decision_function(X_test)\n",
    "fpr_rbf, tpr_rbf, thresholds_rbf = roc_curve(y_test, y_scores_rbf)\n",
    "\n",
    "\n",
    "accuracy_2=accuracy_score(y_test, y_pred2)*100\n",
    "precision_2=precision_score(y_test, y_pred2)*100\n",
    "recall_2=recall_score(y_test, y_pred2)*100\n",
    "y_scores_2 = svm_clf2.decision_function(X_test)\n",
    "fpr_2, tpr_2, thresholds_2 = roc_curve(y_test, y_scores_2)\n",
    "\n",
    "\n",
    "print(\"accuracy through rbf =\", accuracy_rbf)\n",
    "print(\"precision through rbf =\", precision_rbf)\n",
    "print(\"recall through rbf =\", recall_rbf)\n",
    "\n",
    "print(\"accuracy with linear model(C=0.01) =\", accuracy_2)\n",
    "print(\"precision with linear model(C=0.01) =\", precision_2)\n",
    "print(\"recall with linear model(C=0.01) =\", recall_2)"
   ]
  },
  {
   "cell_type": "code",
   "execution_count": 28,
   "metadata": {},
   "outputs": [
    {
     "data": {
      "image/png": "[encoded data removed]",
      "text/plain": [
       "<Figure size 576x432 with 1 Axes>"
      ]
     },
     "metadata": {},
     "output_type": "display_data"
    }
   ],
   "source": [
    "plt.figure(figsize=(8, 6))\n",
    "plt.plot(fpr_rbf, tpr_rbf, linewidth=2, label=\"rbf\")\n",
    "plt.plot(fpr_2, tpr_2, linewidth=2, label=\"linear svm\")\n",
    "plt.plot([0, 1], [0, 1], 'k--')\n",
    "plt.axis=(0, 1, 0, 1)\n",
    "plt.xlabel('False Positive Rate', fontsize=16)\n",
    "plt.ylabel('True Positive Rate', fontsize=16)\n",
    "plt.title('ROC Curve RBF vs. Linear SVM')\n",
    "plt.legend()\n",
    "plt.show()"
   ]
  },
  {
   "cell_type": "code",
   "execution_count": 29,
   "metadata": {},
   "outputs": [],
   "source": [
    "from sklearn.metrics import precision_recall_curve\n",
    "\n",
    "precisions_rbf, recalls_rbf, thresholds1_rbf = precision_recall_curve(y_test, y_scores_rbf)\n",
    "precisions_2, recalls_2, thresholds1_2 = precision_recall_curve(y_test, y_scores_2)"
   ]
  },
  {
   "cell_type": "code",
   "execution_count": 30,
   "metadata": {},
   "outputs": [
    {
     "data": {
      "image/png": "[encoded data removed]",
      "text/plain": [
       "<Figure size 576x288 with 1 Axes>"
      ]
     },
     "metadata": {},
     "output_type": "display_data"
    }
   ],
   "source": [
    "plt.figure(figsize=(8, 4))\n",
    "\n",
    "plt.plot(recalls_rbf, precisions_rbf, \"b-\", linewidth=2,label=\"rbf\")\n",
    "plt.plot(recalls_2, precisions_2, \"g-\", linewidth=2,label=\"linear svm\")\n",
    "plt.xlabel(\"Recall\", fontsize=16)\n",
    "plt.ylabel(\"Precision\", fontsize=16)\n",
    "plt.title('Precision-Recall Curve RBF vs. Linear SVM')\n",
    "plt.legend()\n",
    "plt.axis=(0, 1, 0, 1)\n",
    "\n",
    "#plt.plot(thresholds1_rbf, precisions_rbf[:-1], \"b--\", label=\"Precision_rbf\", linewidth=2)\n",
    "#plt.plot(thresholds1_rbf, recalls_rbf[:-1], \"g-\", label=\"Recall_rbf\", linewidth=2)\n",
    "#plt.plot(thresholds1_2, precisions_2[:-1], \"r-\", label=\"Precision non-rbf\", linewidth=2)\n",
    "#plt.plot(thresholds1_2, recalls_2[:-1], \"k-\", label=\"Recall non-rbf\", linewidth=2)\n",
    "#plt.xlabel(\"Threshold\", fontsize=16)\n",
    "#plt.legend(loc=\"upper left\", fontsize=16)\n",
    "#plt.ylim([0, 1.1])\n",
    "\n",
    "#plt.xlim([-30, 40])\n",
    "plt.show()"
   ]
  },
  {
   "cell_type": "raw",
   "metadata": {},
   "source": [
    "The best parameters that we achieved through gaussian rbf kernel were - C=10 and gamma=0.01\n",
    "From the graphs plot for ROC and Precision-Recall, we can clearly see that our svm model with rbf kernel worked better than our best linear kernel svm model that we achieved in section 3.\n",
    "Hence we can conclude that the rbf kernel works better in our case where we need to distinguish between spam and non-spam mails.\n",
    "accuracy through rbf = 92.61672095548317\n",
    "precision through rbf = 91.78470254957507\n",
    "recall through rbf = 89.25619834710744\n",
    "accuracy with linear model(C=0.01) = 90.44516829533116\n",
    "precision with linear model(C=0.01) = 89.62536023054754\n",
    "recall with linear model(C=0.01) = 85.67493112947659"
   ]
  },
  {
   "cell_type": "markdown",
   "metadata": {
    "colab_type": "text",
    "id": "ZQYZguCjTFDV"
   },
   "source": [
    "- - - \n",
    "### NEED HELP?"
   ]
  },
  {
   "cell_type": "markdown",
   "metadata": {
    "colab_type": "text",
    "id": "xMEZJu4hTFDW"
   },
   "source": [
    "In case you get stuck in any step in the process, you may find some useful information from:\n",
    "\n",
    " * Consult my [lecture 6](https://drive.google.com/open?id=1CeBhepjDKBaFBq2BZq-zNQs-MC8ll7aL4qAF8TJ24FM) and [lecture 6b](https://drive.google.com/open?id=13BidUAs_c2QdZkf92axt2S748sbnbI9Hgxg-fzb-OuU) and/or the textbook\n",
    " * Talk to the TA, they are available and there to help you during [office hour](https://docs.google.com/document/d/15qB84xjaS-uRJmfKmmQuCz38bLMFaoqdbuRLoZEdOYI/edit#heading=h.72k1pvft525n)\n",
    " * Come talk to me or email me <nn4pj@virginia.edu> with subject starting \"CS6316 Assignment 2:...\".\n",
    "\n",
    "Best of luck and have fun!"
   ]
  },
  {
   "cell_type": "code",
   "execution_count": null,
   "metadata": {
    "colab": {},
    "colab_type": "code",
    "id": "xT0VZ4oLTFDX"
   },
   "outputs": [],
   "source": []
  }
 ],
 "metadata": {
  "colab": {
   "name": "CS 6316 Assignment 2.ipynb",
   "provenance": [],
   "version": "0.3.2"
  },
  "kernelspec": {
   "display_name": "Python 3",
   "language": "python",
   "name": "python3"
  },
  "language_info": {
   "codemirror_mode": {
    "name": "ipython",
    "version": 3
   },
   "file_extension": ".py",
   "mimetype": "text/x-python",
   "name": "python",
   "nbconvert_exporter": "python",
   "pygments_lexer": "ipython3",
   "version": "3.6.5"
  }
 },
 "nbformat": 4,
 "nbformat_minor": 1
}
