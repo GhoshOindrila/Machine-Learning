{
 "cells": [
  {
   "cell_type": "markdown",
   "metadata": {
    "colab_type": "text",
    "id": "R6pKzyBcTMkm"
   },
   "source": [
    "# Assignment 1: Comparison of Multivariate Linear Regression Models"
   ]
  },
  {
   "cell_type": "markdown",
   "metadata": {
    "colab_type": "text",
    "id": "FKgguUPZTMkp"
   },
   "source": [
    "### CS 6316 Machine Learning - Department of Computer Science - University of Virginia\n",
    "*In this assignment, you will get to pick your favorite data set on Kaggle (https://kaggle.com) and implement some learning models in a context of a **regression** problem.  For references, you may refer to [my slides](https://docs.google.com/presentation/d/10D1he89peAWaFgjtZlHpUzvOOAie_vIFT95htKCKgc0/edit#slide=id.p) or Chapter 4 of the textbook if you need additional sample codes to help with your assignment. To get started, you will need to determine which dataset to download and copy it into the directory where you wish to run your implementation (ie. same folder as this file).* \n",
    "\n",
    "*For deliverables, you must write code in Python and submit **this** Jupyter Notebook file (.ipynb) to earn a total of 100 pts. You will gain points depending on how you perform in the following sections.*\n"
   ]
  },
  {
   "cell_type": "markdown",
   "metadata": {
    "colab_type": "text",
    "id": "RfOjAjivTMkr"
   },
   "source": [
    "***\n",
    "## 1. BIG PICTURE (5 pts)\n",
    "Write a paragraph explaining the context of the problem in which you are trying to investigate. In the same paragraph, explain why you pick your dataset. Then, you MUST include the URL to the dataset to help the TA to download it (we will assume that the data file is put into the same folder as the Jupyter Notebook file). Then, you can write some code to load the CSV file and take a quick look at the dataset, and output the following:\n",
    "\n",
    " * How big is your dataset? (in terms of MB)\n",
    " * How many entries does it have?\n",
    " * How many features does it have?\n",
    " * What are some basic statistics you can learn right away about this dataset?"
   ]
  },
  {
   "cell_type": "markdown",
   "metadata": {},
   "source": [
    "The Problem -> This is a dataset for about 54K diamonds with their price and each attribute that directly or inversely \n",
    "               affects its price. I chose this dataset as it seems to be a good regression tasks. Also few features are highly\n",
    "               correlated than others. As market demand makes diamonds so valuable and a way of investment, from the point of \n",
    "               view of a Diamond retailer, I would like to predict the price of a diamond given few of the attributes that are\n",
    "               present in this dataset.\n",
    "\n",
    "URL-> https://www.kaggle.com/shivam2503/diamonds\n",
    "\n",
    "How big is your dataset? (in terms of MB)-> 3 MB ( 3117 KB )\n",
    "\n",
    "How many entries does it have? -> 53940 entries\n",
    "\n",
    "How many features does it have? -> 10 features (12 columns)\n",
    "(But one column works is like index so dropped it while cleaning the dataset, so 9 features excluding all encoding)\n",
    "\n",
    "What are some basic statistics you can learn right away about this dataset? -> \n",
    "There is no blank or nulls in this dataset. We have 3 different categorical features, namely- Cut, Clarity and Color. \n",
    "Hence encoding is required. Also, each feature has different scales and ranges, so dataset needs to be scaled before we\n",
    "train our model with it. And features like carat and measurements(x,y,z) are highly correlated with the price of the diamond. \n",
    "x is for length, y is for width and z is for depth. These features seems to be promising for contributing highly to the price of\n",
    "the diamond."
   ]
  },
  {
   "cell_type": "code",
   "execution_count": 1,
   "metadata": {
    "colab": {},
    "colab_type": "code",
    "id": "pSeSvMOvTMks"
   },
   "outputs": [
    {
     "name": "stdout",
     "output_type": "stream",
     "text": [
      "How big is your dataset? (in terms of MB)\n",
      "3 MB ( 3117 KB )\n"
     ]
    }
   ],
   "source": [
    "# Import some common packages\n",
    "import os\n",
    "import numpy as np\n",
    "import matplotlib\n",
    "import matplotlib.pyplot as plt\n",
    "import pandas as pd\n",
    "\n",
    "# to make this notebook's output stable across runs\n",
    "np.random.seed(42)\n",
    "# Your code goes here for this section, make sure you also include the output to answer the above questions.\n",
    "datasetURL = \"\"; # required url to download for CSV file. The TA will download and run your program.\n",
    "diamonddata = pd.read_csv(\"diamonds.csv\")\n",
    "print('How big is your dataset? (in terms of MB)')\n",
    "print ((os.path.getsize(\"diamonds.csv\") >> 20),'MB','(',(os.path.getsize(\"diamonds.csv\") >> 10),'KB',')')"
   ]
  },
  {
   "cell_type": "code",
   "execution_count": 2,
   "metadata": {},
   "outputs": [
    {
     "data": {
      "text/html": [
       "<div>\n",
       "<style scoped>\n",
       "    .dataframe tbody tr th:only-of-type {\n",
       "        vertical-align: middle;\n",
       "    }\n",
       "\n",
       "    .dataframe tbody tr th {\n",
       "        vertical-align: top;\n",
       "    }\n",
       "\n",
       "    .dataframe thead th {\n",
       "        text-align: right;\n",
       "    }\n",
       "</style>\n",
       "<table border=\"1\" class=\"dataframe\">\n",
       "  <thead>\n",
       "    <tr style=\"text-align: right;\">\n",
       "      <th></th>\n",
       "      <th>Unnamed: 0</th>\n",
       "      <th>carat</th>\n",
       "      <th>cut</th>\n",
       "      <th>color</th>\n",
       "      <th>clarity</th>\n",
       "      <th>depth</th>\n",
       "      <th>table</th>\n",
       "      <th>price</th>\n",
       "      <th>x</th>\n",
       "      <th>y</th>\n",
       "      <th>z</th>\n",
       "    </tr>\n",
       "  </thead>\n",
       "  <tbody>\n",
       "    <tr>\n",
       "      <th>0</th>\n",
       "      <td>1</td>\n",
       "      <td>0.23</td>\n",
       "      <td>Ideal</td>\n",
       "      <td>E</td>\n",
       "      <td>SI2</td>\n",
       "      <td>61.5</td>\n",
       "      <td>55.0</td>\n",
       "      <td>326</td>\n",
       "      <td>3.95</td>\n",
       "      <td>3.98</td>\n",
       "      <td>2.43</td>\n",
       "    </tr>\n",
       "    <tr>\n",
       "      <th>1</th>\n",
       "      <td>2</td>\n",
       "      <td>0.21</td>\n",
       "      <td>Premium</td>\n",
       "      <td>E</td>\n",
       "      <td>SI1</td>\n",
       "      <td>59.8</td>\n",
       "      <td>61.0</td>\n",
       "      <td>326</td>\n",
       "      <td>3.89</td>\n",
       "      <td>3.84</td>\n",
       "      <td>2.31</td>\n",
       "    </tr>\n",
       "    <tr>\n",
       "      <th>2</th>\n",
       "      <td>3</td>\n",
       "      <td>0.23</td>\n",
       "      <td>Good</td>\n",
       "      <td>E</td>\n",
       "      <td>VS1</td>\n",
       "      <td>56.9</td>\n",
       "      <td>65.0</td>\n",
       "      <td>327</td>\n",
       "      <td>4.05</td>\n",
       "      <td>4.07</td>\n",
       "      <td>2.31</td>\n",
       "    </tr>\n",
       "    <tr>\n",
       "      <th>3</th>\n",
       "      <td>4</td>\n",
       "      <td>0.29</td>\n",
       "      <td>Premium</td>\n",
       "      <td>I</td>\n",
       "      <td>VS2</td>\n",
       "      <td>62.4</td>\n",
       "      <td>58.0</td>\n",
       "      <td>334</td>\n",
       "      <td>4.20</td>\n",
       "      <td>4.23</td>\n",
       "      <td>2.63</td>\n",
       "    </tr>\n",
       "    <tr>\n",
       "      <th>4</th>\n",
       "      <td>5</td>\n",
       "      <td>0.31</td>\n",
       "      <td>Good</td>\n",
       "      <td>J</td>\n",
       "      <td>SI2</td>\n",
       "      <td>63.3</td>\n",
       "      <td>58.0</td>\n",
       "      <td>335</td>\n",
       "      <td>4.34</td>\n",
       "      <td>4.35</td>\n",
       "      <td>2.75</td>\n",
       "    </tr>\n",
       "  </tbody>\n",
       "</table>\n",
       "</div>"
      ],
      "text/plain": [
       "   Unnamed: 0  carat      cut color clarity  depth  table  price     x     y  \\\n",
       "0           1   0.23    Ideal     E     SI2   61.5   55.0    326  3.95  3.98   \n",
       "1           2   0.21  Premium     E     SI1   59.8   61.0    326  3.89  3.84   \n",
       "2           3   0.23     Good     E     VS1   56.9   65.0    327  4.05  4.07   \n",
       "3           4   0.29  Premium     I     VS2   62.4   58.0    334  4.20  4.23   \n",
       "4           5   0.31     Good     J     SI2   63.3   58.0    335  4.34  4.35   \n",
       "\n",
       "      z  \n",
       "0  2.43  \n",
       "1  2.31  \n",
       "2  2.31  \n",
       "3  2.63  \n",
       "4  2.75  "
      ]
     },
     "execution_count": 2,
     "metadata": {},
     "output_type": "execute_result"
    }
   ],
   "source": [
    "diamonddata.head()"
   ]
  },
  {
   "cell_type": "code",
   "execution_count": 3,
   "metadata": {},
   "outputs": [
    {
     "name": "stdout",
     "output_type": "stream",
     "text": [
      "<class 'pandas.core.frame.DataFrame'>\n",
      "RangeIndex: 53940 entries, 0 to 53939\n",
      "Data columns (total 11 columns):\n",
      "Unnamed: 0    53940 non-null int64\n",
      "carat         53940 non-null float64\n",
      "cut           53940 non-null object\n",
      "color         53940 non-null object\n",
      "clarity       53940 non-null object\n",
      "depth         53940 non-null float64\n",
      "table         53940 non-null float64\n",
      "price         53940 non-null int64\n",
      "x             53940 non-null float64\n",
      "y             53940 non-null float64\n",
      "z             53940 non-null float64\n",
      "dtypes: float64(6), int64(2), object(3)\n",
      "memory usage: 4.5+ MB\n"
     ]
    }
   ],
   "source": [
    "diamonddata.info()"
   ]
  },
  {
   "cell_type": "code",
   "execution_count": 4,
   "metadata": {},
   "outputs": [
    {
     "data": {
      "text/plain": [
       "Unnamed: 0    False\n",
       "carat         False\n",
       "cut           False\n",
       "color         False\n",
       "clarity       False\n",
       "depth         False\n",
       "table         False\n",
       "price         False\n",
       "x             False\n",
       "y             False\n",
       "z             False\n",
       "dtype: bool"
      ]
     },
     "execution_count": 4,
     "metadata": {},
     "output_type": "execute_result"
    }
   ],
   "source": [
    "diamonddata.isna().any()"
   ]
  },
  {
   "cell_type": "code",
   "execution_count": 5,
   "metadata": {},
   "outputs": [
    {
     "data": {
      "text/plain": [
       "Unnamed: 0    False\n",
       "carat         False\n",
       "cut           False\n",
       "color         False\n",
       "clarity       False\n",
       "depth         False\n",
       "table         False\n",
       "price         False\n",
       "x             False\n",
       "y             False\n",
       "z             False\n",
       "dtype: bool"
      ]
     },
     "execution_count": 5,
     "metadata": {},
     "output_type": "execute_result"
    }
   ],
   "source": [
    "diamonddata.isnull().any()"
   ]
  },
  {
   "cell_type": "code",
   "execution_count": 6,
   "metadata": {},
   "outputs": [
    {
     "data": {
      "text/plain": [
       "price         1.000000\n",
       "carat         0.921591\n",
       "x             0.884435\n",
       "y             0.865421\n",
       "z             0.861249\n",
       "table         0.127134\n",
       "depth        -0.010647\n",
       "Unnamed: 0   -0.306873\n",
       "Name: price, dtype: float64"
      ]
     },
     "execution_count": 6,
     "metadata": {},
     "output_type": "execute_result"
    }
   ],
   "source": [
    "corr_matrix = diamonddata.corr()\n",
    "corr_matrix[\"price\"].sort_values(ascending=False)"
   ]
  },
  {
   "cell_type": "markdown",
   "metadata": {
    "colab_type": "text",
    "id": "bnxXBn18TMkw"
   },
   "source": [
    "---\n",
    "## 2. DATA DISCOVERY, CLEANING, AND SCALING (10 pts)\n",
    "\n",
    "**Data Discover:** Plot out all correlations among the features. You may notice some features are more correlated with your predicted value than other. This information will help you confirm that weights of your regression model later on.\n",
    "\n",
    "**Data Cleaning:** If your dataset has some missing values, make sure you are able to fill those values with the Imputer class. If your dataset has categorical features, make sure you conver those features into numerical using OneHotEncoder class. \n",
    "\n",
    "**Feature Scaling** More importantly, your task is to write some codes to normalize the value of each features as follow:\n",
    "\n",
    "* Subtract the mean value of each feature from the dataset\n",
    "* Scale (divide) the feature values by their respective standard deviation\n",
    "\n",
    "Implementation Note: You will do this for all features and your code should work with datasets of all sizes (any number of features/ examples). After learning the parameters from the model, you must first normalize the new $x$ value using the mean and standard deviation that you have previously computed from the training set."
   ]
  },
  {
   "cell_type": "code",
   "execution_count": 7,
   "metadata": {
    "colab": {},
    "colab_type": "code",
    "id": "UuD2u4_ITMkx"
   },
   "outputs": [
    {
     "data": {
      "text/plain": [
       "array([[<matplotlib.axes._subplots.AxesSubplot object at 0x000001B60E40F860>,\n",
       "        <matplotlib.axes._subplots.AxesSubplot object at 0x000001B60E65DE48>,\n",
       "        <matplotlib.axes._subplots.AxesSubplot object at 0x000001B60E690518>,\n",
       "        <matplotlib.axes._subplots.AxesSubplot object at 0x000001B60E6B9BA8>,\n",
       "        <matplotlib.axes._subplots.AxesSubplot object at 0x000001B60E6EA278>],\n",
       "       [<matplotlib.axes._subplots.AxesSubplot object at 0x000001B60E6EA2B0>,\n",
       "        <matplotlib.axes._subplots.AxesSubplot object at 0x000001B60E73AF98>,\n",
       "        <matplotlib.axes._subplots.AxesSubplot object at 0x000001B60F959668>,\n",
       "        <matplotlib.axes._subplots.AxesSubplot object at 0x000001B60F981CF8>,\n",
       "        <matplotlib.axes._subplots.AxesSubplot object at 0x000001B60F9B13C8>],\n",
       "       [<matplotlib.axes._subplots.AxesSubplot object at 0x000001B60F9DBA58>,\n",
       "        <matplotlib.axes._subplots.AxesSubplot object at 0x000001B60FA0D128>,\n",
       "        <matplotlib.axes._subplots.AxesSubplot object at 0x000001B60FA327B8>,\n",
       "        <matplotlib.axes._subplots.AxesSubplot object at 0x000001B60FA5DE48>,\n",
       "        <matplotlib.axes._subplots.AxesSubplot object at 0x000001B60FA8B518>],\n",
       "       [<matplotlib.axes._subplots.AxesSubplot object at 0x000001B60FAB2BA8>,\n",
       "        <matplotlib.axes._subplots.AxesSubplot object at 0x000001B60FAE4278>,\n",
       "        <matplotlib.axes._subplots.AxesSubplot object at 0x000001B60FB0C908>,\n",
       "        <matplotlib.axes._subplots.AxesSubplot object at 0x000001B60FB35F98>,\n",
       "        <matplotlib.axes._subplots.AxesSubplot object at 0x000001B60FB66668>],\n",
       "       [<matplotlib.axes._subplots.AxesSubplot object at 0x000001B60FB8CCF8>,\n",
       "        <matplotlib.axes._subplots.AxesSubplot object at 0x000001B60FBBC3C8>,\n",
       "        <matplotlib.axes._subplots.AxesSubplot object at 0x000001B60FBE4A58>,\n",
       "        <matplotlib.axes._subplots.AxesSubplot object at 0x000001B60FC18128>,\n",
       "        <matplotlib.axes._subplots.AxesSubplot object at 0x000001B60FC3D7B8>]],\n",
       "      dtype=object)"
      ]
     },
     "execution_count": 7,
     "metadata": {},
     "output_type": "execute_result"
    },
    {
     "data": {
      "image/png": "[encoded data removed]",
      "text/plain": [
       "<Figure size 864x576 with 25 Axes>"
      ]
     },
     "metadata": {},
     "output_type": "display_data"
    }
   ],
   "source": [
    "# You might want to use the following package\n",
    "from sklearn.model_selection import train_test_split\n",
    "from pandas.plotting import scatter_matrix # optional\n",
    "from sklearn.preprocessing import Imputer\n",
    "from sklearn.preprocessing import LabelEncoder\n",
    "from sklearn.preprocessing import OneHotEncoder\n",
    "from sklearn.pipeline import Pipeline\n",
    "from sklearn.preprocessing import StandardScaler\n",
    "\n",
    "attributes = [\"price\", \"carat\", \"x\",\"y\",\"z\"]\n",
    "scatter_matrix(diamonddata[attributes], figsize=(12, 8))"
   ]
  },
  {
   "cell_type": "code",
   "execution_count": 8,
   "metadata": {},
   "outputs": [
    {
     "data": {
      "text/html": [
       "<div>\n",
       "<style scoped>\n",
       "    .dataframe tbody tr th:only-of-type {\n",
       "        vertical-align: middle;\n",
       "    }\n",
       "\n",
       "    .dataframe tbody tr th {\n",
       "        vertical-align: top;\n",
       "    }\n",
       "\n",
       "    .dataframe thead th {\n",
       "        text-align: right;\n",
       "    }\n",
       "</style>\n",
       "<table border=\"1\" class=\"dataframe\">\n",
       "  <thead>\n",
       "    <tr style=\"text-align: right;\">\n",
       "      <th></th>\n",
       "      <th>Unnamed: 0</th>\n",
       "      <th>carat</th>\n",
       "      <th>cut</th>\n",
       "      <th>color</th>\n",
       "      <th>clarity</th>\n",
       "      <th>depth</th>\n",
       "      <th>table</th>\n",
       "      <th>x</th>\n",
       "      <th>y</th>\n",
       "      <th>z</th>\n",
       "    </tr>\n",
       "  </thead>\n",
       "  <tbody>\n",
       "    <tr>\n",
       "      <th>26577</th>\n",
       "      <td>26578</td>\n",
       "      <td>2.01</td>\n",
       "      <td>Ideal</td>\n",
       "      <td>I</td>\n",
       "      <td>SI1</td>\n",
       "      <td>64.8</td>\n",
       "      <td>62.0</td>\n",
       "      <td>7.92</td>\n",
       "      <td>7.82</td>\n",
       "      <td>5.10</td>\n",
       "    </tr>\n",
       "    <tr>\n",
       "      <th>15931</th>\n",
       "      <td>15932</td>\n",
       "      <td>1.01</td>\n",
       "      <td>Premium</td>\n",
       "      <td>G</td>\n",
       "      <td>VVS2</td>\n",
       "      <td>61.9</td>\n",
       "      <td>58.0</td>\n",
       "      <td>6.48</td>\n",
       "      <td>6.38</td>\n",
       "      <td>3.98</td>\n",
       "    </tr>\n",
       "    <tr>\n",
       "      <th>37542</th>\n",
       "      <td>37543</td>\n",
       "      <td>0.39</td>\n",
       "      <td>Ideal</td>\n",
       "      <td>F</td>\n",
       "      <td>VVS2</td>\n",
       "      <td>61.6</td>\n",
       "      <td>55.0</td>\n",
       "      <td>4.71</td>\n",
       "      <td>4.74</td>\n",
       "      <td>2.91</td>\n",
       "    </tr>\n",
       "    <tr>\n",
       "      <th>27267</th>\n",
       "      <td>27268</td>\n",
       "      <td>2.12</td>\n",
       "      <td>Very Good</td>\n",
       "      <td>F</td>\n",
       "      <td>SI2</td>\n",
       "      <td>60.6</td>\n",
       "      <td>58.0</td>\n",
       "      <td>8.27</td>\n",
       "      <td>8.32</td>\n",
       "      <td>5.03</td>\n",
       "    </tr>\n",
       "    <tr>\n",
       "      <th>15568</th>\n",
       "      <td>15569</td>\n",
       "      <td>1.01</td>\n",
       "      <td>Premium</td>\n",
       "      <td>F</td>\n",
       "      <td>VS2</td>\n",
       "      <td>62.3</td>\n",
       "      <td>58.0</td>\n",
       "      <td>6.34</td>\n",
       "      <td>6.40</td>\n",
       "      <td>3.97</td>\n",
       "    </tr>\n",
       "  </tbody>\n",
       "</table>\n",
       "</div>"
      ],
      "text/plain": [
       "       Unnamed: 0  carat        cut color clarity  depth  table     x     y  \\\n",
       "26577       26578   2.01      Ideal     I     SI1   64.8   62.0  7.92  7.82   \n",
       "15931       15932   1.01    Premium     G    VVS2   61.9   58.0  6.48  6.38   \n",
       "37542       37543   0.39      Ideal     F    VVS2   61.6   55.0  4.71  4.74   \n",
       "27267       27268   2.12  Very Good     F     SI2   60.6   58.0  8.27  8.32   \n",
       "15568       15569   1.01    Premium     F     VS2   62.3   58.0  6.34  6.40   \n",
       "\n",
       "          z  \n",
       "26577  5.10  \n",
       "15931  3.98  \n",
       "37542  2.91  \n",
       "27267  5.03  \n",
       "15568  3.97  "
      ]
     },
     "execution_count": 8,
     "metadata": {},
     "output_type": "execute_result"
    }
   ],
   "source": [
    "# Your code goes here for this section.\n",
    "diamonddata_x = diamonddata\n",
    "diamonddata_x = diamonddata_x.drop([\"price\"],axis = 1)\n",
    "diamonddata_y = diamonddata[\"price\"]\n",
    "X_train, X_test, y_train, y_test = train_test_split(diamonddata_x, diamonddata_y, test_size=0.40)\n",
    "X_train.head()"
   ]
  },
  {
   "cell_type": "code",
   "execution_count": 9,
   "metadata": {},
   "outputs": [],
   "source": [
    "def dataCleaningScaling(X,Y):\n",
    "    scaleStandard = StandardScaler()\n",
    "    X = X.drop([\"Unnamed: 0\"],axis = 1)\n",
    "    diamond_cut = X[['cut']]\n",
    "    diamonddata_cut_encoded = pd.get_dummies(diamond_cut)\n",
    "    diamond_color =  X[['color']]\n",
    "    diamond_clarity =  X[['clarity']]\n",
    "    diamonddata_color_encoded = pd.get_dummies(diamond_color)\n",
    "    diamonddata_clarity_encoded = pd.get_dummies(diamond_clarity)\n",
    "    X = X.drop([\"cut\",\"color\",\"clarity\"], axis=1)\n",
    "    X = X.join(diamonddata_cut_encoded)\n",
    "    X = X.join(diamonddata_color_encoded)\n",
    "    X = X.join(diamonddata_clarity_encoded)\n",
    "    X = scaleStandard.fit_transform(X)\n",
    "    X = np.c_[np.ones((X.shape[0], 1)), X]\n",
    "    Y=Y.as_matrix()\n",
    "    Y=Y.reshape(Y.shape[0],1)\n",
    "    return X,Y"
   ]
  },
  {
   "cell_type": "code",
   "execution_count": 10,
   "metadata": {},
   "outputs": [
    {
     "name": "stderr",
     "output_type": "stream",
     "text": [
      "C:\\Users\\Oindrila\\Anaconda3\\lib\\site-packages\\ipykernel_launcher.py:16: FutureWarning: Method .as_matrix will be removed in a future version. Use .values instead.\n",
      "  app.launch_new_instance()\n"
     ]
    }
   ],
   "source": [
    "X_train,y_train=dataCleaningScaling(X_train,y_train)"
   ]
  },
  {
   "cell_type": "code",
   "execution_count": 11,
   "metadata": {},
   "outputs": [
    {
     "name": "stderr",
     "output_type": "stream",
     "text": [
      "C:\\Users\\Oindrila\\Anaconda3\\lib\\site-packages\\ipykernel_launcher.py:16: FutureWarning: Method .as_matrix will be removed in a future version. Use .values instead.\n",
      "  app.launch_new_instance()\n"
     ]
    }
   ],
   "source": [
    "X_test,y_test=dataCleaningScaling(X_test,y_test)"
   ]
  },
  {
   "cell_type": "markdown",
   "metadata": {
    "colab_type": "text",
    "id": "IC7UVL0eTMk0"
   },
   "source": [
    "- - -\n",
    "## 3. IMPLEMENTATION OF GRADIENT DESCENT (45 pts)\n",
    "The gradient descent formulation remain the same as one in the lecture. You should write code to implement the **MyLinearRegression** class and its predefined methods:\n",
    "\n",
    "* **Gradient Descent:** Notes that you may NOT call the library linear regression which defeats the purpose of this assignment. Make sure your code supports any number of features and is well-vectorized."
   ]
  },
  {
   "cell_type": "code",
   "execution_count": 12,
   "metadata": {
    "colab": {},
    "colab_type": "code",
    "id": "2haxAIlCTMk0"
   },
   "outputs": [],
   "source": [
    "# NOTE: You may not use the library Linear Regression, but implement your own!\n",
    "# REMEMBER to place self.attribute = 0 with value from your implementation\n",
    "\n",
    "class MyLinearRegression:\n",
    "    def __int__ (self):\n",
    "        self.theta = 0; # parameter vector;\n",
    "        self.alpha = 0; # learning rate\n",
    "        self.cost  = 0; # cost function\n",
    "  \n",
    "    def fitUsingGradientDescent(self, X_train, y_train):\n",
    "        # implementation code here\n",
    "        costHistory=[]\n",
    "        thetaHistory=[]\n",
    "        self.alpha = [0.001,0.01,0.1,0.2]\n",
    "        #self.alpha=[0.1]\n",
    "        iters = 1000\n",
    "        for i in range(len(self.alpha)):\n",
    "            self.theta = np.random.randn(X_train.shape[1],1)\n",
    "            theta1,cost1=self.gradientDescent(X_train, y_train, self.theta, self.alpha[i],iters)\n",
    "            costHistory.append(cost1)\n",
    "            thetaHistory.append(theta1)\n",
    "        return thetaHistory,costHistory\n",
    "        \n",
    "    def gradientDescent(self, X_train, y_train, theta, alpha, iters):\n",
    "        # INPUT:\n",
    "        # alpha: the learning rate\n",
    "        # iters: number of iterations\n",
    "        # \n",
    "        # OUTPUT: \n",
    "        # theta: updated value for theta\n",
    "        # cost: value of the cost function\n",
    "        #\n",
    "        # implementation code here\n",
    "        #self.theta = 0\n",
    "        #print (\"alpha\",alpha)\n",
    "        self.cost = 0\n",
    "        cost_iter = [0] * iters\n",
    "        m = len(y_train)\n",
    "    \n",
    "        for i in range(iters):\n",
    "            h = X_train.dot(theta)                                          # Values of the Hypothesis\n",
    "            loss = h - y_train                                              # Difference between the Hypothesis and the Y_train\n",
    "            gradients = 2/m * X_train.T.dot(loss) \n",
    "            theta = theta - alpha * gradients                               # Changing Values of theta\n",
    "            cost = self.computeCostFunc(X_train, y_train, theta)            # New Cost Value\n",
    "            cost_iter[i] = cost\n",
    "            #if(i%100==0):\n",
    "             #   print (\"iteration\",i)\n",
    "        return theta,cost_iter\n",
    "    \n",
    "    def computeCostFunc(self, X_train, y_train, theta): \n",
    "        # compute the cost function \n",
    "        #implementation code here\n",
    "        #self.theta = 0\n",
    "        m = len(y_train)\n",
    "        rmse = np.sqrt(sum((X_train.dot(theta) - y_train) ** 2) / m)\n",
    "        return rmse\n",
    "    \n",
    "    def predict(self, X_test,theta):\n",
    "        # implementation code here \n",
    "        y_predict=X_test.dot(theta)\n",
    "        return y_predict\n",
    "    \n",
    "    def fitUsingNormalEquation(self, X_train, y_train):\n",
    "        # implementation code here\n",
    "        self.theta = 0\n",
    "        #X_train = np.c_[np.ones((X_train.shape[0], 1)), X_train]\n",
    "        mul=X_train.T.dot(X_train)\n",
    "        theta=np.linalg.inv(mul).dot(X_train.T).dot(y_train)\n",
    "        return theta\n",
    "    "
   ]
  },
  {
   "cell_type": "code",
   "execution_count": 13,
   "metadata": {},
   "outputs": [],
   "source": [
    "# Your code goes here to call the instance of class MyLinearRegression\n",
    "myGradientDescentModel = MyLinearRegression()\n",
    "Theta,Cost=myGradientDescentModel.fitUsingGradientDescent(X_train, y_train) "
   ]
  },
  {
   "cell_type": "markdown",
   "metadata": {
    "colab_type": "text",
    "id": "rXsQf5nXTMk3"
   },
   "source": [
    "* **Learning Rate:** You will try out different learning rates for the dataset and find a learning rate that converges quickly. If you pick a learning rate, your plot of Cost Function $J(\\theta)$ against number of iteration will quickly decay to a small value. This also indicates that your implementation is correct. If your learning rate is too large, the cost function $J(\\theta)$ can diverge and blow up. From the below plot, you must be able to report the best learning rate the you found to earn credit for this section."
   ]
  },
  {
   "cell_type": "code",
   "execution_count": 14,
   "metadata": {
    "colab": {},
    "colab_type": "code",
    "id": "5r3-NfohTMk3"
   },
   "outputs": [
    {
     "data": {
      "image/png": "[encoded data removed]",
      "text/plain": [
       "<Figure size 432x288 with 1 Axes>"
      ]
     },
     "metadata": {},
     "output_type": "display_data"
    }
   ],
   "source": [
    "# Use the following code to plot out your learning rate\n",
    "# iters and cost must be supplied to plot out the cost function\n",
    "# You may plot multiple curves corresponding to different learning rates to justify the best one.\n",
    "#\n",
    "# plt.set_xlabel('Iterations')  \n",
    "# plt.set_ylabel('Cost')  \n",
    "# plt.set_title('Error vs. Training Iterations')  \n",
    "Iterations=1000\n",
    "alpha=[0.001,0.01,0.1,0.2]\n",
    "iters=[0] * Iterations\n",
    "for i in range(Iterations):\n",
    "    iters[i]=i\n",
    "plt.xlabel('Iterations')  \n",
    "plt.ylabel('Cost')\n",
    "plt.title('Error vs. Training Iterations')\n",
    "for i in range(len(Cost)):\n",
    "    plt.plot(iters, Cost[i],label='alpha'+str(alpha[i]))\n",
    "    plt.legend()\n",
    "plt.show()"
   ]
  },
  {
   "cell_type": "markdown",
   "metadata": {},
   "source": [
    "So from the graph we can conclude that alpha for values 0.1 and 0.2 converges fastest. Hence have the fastest learning rate with minimum cost. So we select alpha=0.2 for predicting our Y for the test set, which is at the 3rd index and use the corresponding weights."
   ]
  },
  {
   "cell_type": "code",
   "execution_count": 15,
   "metadata": {},
   "outputs": [],
   "source": [
    "y_predictTrain=myGradientDescentModel.predict(X_train,Theta[3])\n",
    "y_predictTest=myGradientDescentModel.predict(X_test,Theta[3])"
   ]
  },
  {
   "cell_type": "code",
   "execution_count": 16,
   "metadata": {},
   "outputs": [
    {
     "data": {
      "text/plain": [
       "array([1121.31386519])"
      ]
     },
     "execution_count": 16,
     "metadata": {},
     "output_type": "execute_result"
    }
   ],
   "source": [
    "costGradient=myGradientDescentModel.computeCostFunc(X_test, y_test, Theta[3])\n",
    "costGradient"
   ]
  },
  {
   "cell_type": "markdown",
   "metadata": {
    "colab_type": "text",
    "id": "GaQiwYoNTMk6"
   },
   "source": [
    "- - -\n",
    "## 4. IMPLEMENTATION OF THE NORMAL EQUATION (10 pts)"
   ]
  },
  {
   "cell_type": "markdown",
   "metadata": {
    "colab_type": "text",
    "id": "Rw-5uDXTTMk6"
   },
   "source": [
    "In my lecture, you learn that the closed form solution of linear regression using the normal equation formulation. Using the formula does not require any feature scaling, and should be straight forward to implement: \n",
    "\n",
    "$\n",
    "    \\mathbf{\\theta} = ({\\mathbf{X}^{T}\\mathbf{X}})^{-1}\\mathbf{X}^{T}\\mathbf{y}.\n",
    "$\n",
    "\n",
    "Note that you still need to add a column of 1's to the $\\mathbf{\n",
    "X}$ matrix to have an intercept term."
   ]
  },
  {
   "cell_type": "code",
   "execution_count": 17,
   "metadata": {
    "colab": {},
    "colab_type": "code",
    "id": "0y51WjP6TMk7"
   },
   "outputs": [],
   "source": [
    "# Implement the normalEquation method of the MyLinearRegression Class before execute the code below:\n",
    "myNormalEquationModel = MyLinearRegression()\n",
    "thetaNormal=myNormalEquationModel.fitUsingNormalEquation(X_train, y_train)"
   ]
  },
  {
   "cell_type": "code",
   "execution_count": 18,
   "metadata": {},
   "outputs": [
    {
     "data": {
      "text/plain": [
       "array([1151.57363081])"
      ]
     },
     "execution_count": 18,
     "metadata": {},
     "output_type": "execute_result"
    }
   ],
   "source": [
    "costNormal=myNormalEquationModel.computeCostFunc(X_train, y_train, thetaNormal)\n",
    "costNormal"
   ]
  },
  {
   "cell_type": "code",
   "execution_count": 19,
   "metadata": {},
   "outputs": [],
   "source": [
    "y_predictTrainNormal=myGradientDescentModel.predict(X_train,thetaNormal)\n",
    "y_predictTestNormal=myGradientDescentModel.predict(X_test,thetaNormal)"
   ]
  },
  {
   "cell_type": "code",
   "execution_count": 20,
   "metadata": {},
   "outputs": [
    {
     "data": {
      "text/plain": [
       "array([1137.52612027])"
      ]
     },
     "execution_count": 20,
     "metadata": {},
     "output_type": "execute_result"
    }
   ],
   "source": [
    "costNormalTest=myNormalEquationModel.computeCostFunc(X_test, y_test, thetaNormal)\n",
    "costNormalTest"
   ]
  },
  {
   "cell_type": "markdown",
   "metadata": {
    "colab_type": "text",
    "id": "3mBdzUhCTMk9"
   },
   "source": [
    "- - -\n",
    "## 5. COMPARISON OF DIFFERENT IMPLEMENTATIONS (20 pts)"
   ]
  },
  {
   "cell_type": "markdown",
   "metadata": {
    "colab_type": "text",
    "id": "0cSVrLx6TMk9"
   },
   "source": [
    "You should be able to evaluate and compare your gradient descent as well as normal equation implementation of linear regression. In theory, they should be the same, or at least similar. For good measures, you may also use the built-in library **Scholastic Gradient Descent (SGD)** as a third model for comparison. For each model, you must compute the Root Mean Squared Error (RMSE) as performance measure. The good news is that you can call library functions to compute these as shown below instead of writing your own code:\n",
    "\n",
    "* Which one yields the best performance measure for your dataset?\n",
    "* What is your assessment of the error? Good? Okay? Terrible?"
   ]
  },
  {
   "cell_type": "code",
   "execution_count": 21,
   "metadata": {
    "colab": {},
    "colab_type": "code",
    "id": "2BAmZOmNTMk9"
   },
   "outputs": [
    {
     "name": "stdout",
     "output_type": "stream",
     "text": [
      "RMSE for each model -\n",
      "SGD Regressor ->  1128.4163012583672\n",
      "My Gradient Descent Model ->  1121.3138651876982\n",
      "My Normal Equation Mpdel ->  1137.526120269591\n",
      "Using Lib RMSE My Gradient Descent Model ->  1121.3138651876961\n",
      "Using Lib RMSE My Normal Equation Mpdel ->  1137.526120269591\n"
     ]
    },
    {
     "name": "stderr",
     "output_type": "stream",
     "text": [
      "C:\\Users\\Oindrila\\Anaconda3\\lib\\site-packages\\sklearn\\linear_model\\stochastic_gradient.py:128: FutureWarning: max_iter and tol parameters have been added in <class 'sklearn.linear_model.stochastic_gradient.SGDRegressor'> in 0.19. If both are left unset, they default to max_iter=5 and tol=None. If tol is not None, max_iter defaults to max_iter=1000. From 0.21, default max_iter will be 1000, and default tol will be 1e-3.\n",
      "  \"and default tol will be 1e-3.\" % type(self), FutureWarning)\n",
      "C:\\Users\\Oindrila\\Anaconda3\\lib\\site-packages\\sklearn\\utils\\validation.py:578: DataConversionWarning: A column-vector y was passed when a 1d array was expected. Please change the shape of y to (n_samples, ), for example using ravel().\n",
      "  y = column_or_1d(y, warn=True)\n"
     ]
    }
   ],
   "source": [
    "from sklearn.metrics import mean_squared_error\n",
    "\n",
    "# Use the built-in SGD Regressor model\n",
    "from sklearn.linear_model import SGDRegressor\n",
    "mySGDModel = SGDRegressor()\n",
    "mySGDModel.fit(X_train,y_train)\n",
    "y_predict = mySGDModel.predict(X_test)\n",
    "mse = mean_squared_error(y_test, y_predict)\n",
    "mySGDModel_rmse = np.sqrt(mse)\n",
    "\n",
    "\n",
    "myGradientDescentModel_rmse = np.sqrt(mean_squared_error(y_test, y_predictTest))\n",
    "myNormalEquationModel_rmse = np.sqrt(mean_squared_error(y_test, y_predictTestNormal))\n",
    "\n",
    "print('RMSE for each model -')\n",
    "print('SGD Regressor -> ',mySGDModel_rmse)\n",
    "print('My Gradient Descent Model -> ',float(costGradient))\n",
    "print('My Normal Equation Mpdel -> ',float(costNormalTest))\n",
    "print('Using Lib RMSE My Gradient Descent Model -> ',myGradientDescentModel_rmse)\n",
    "print('Using Lib RMSE My Normal Equation Mpdel -> ',myNormalEquationModel_rmse)"
   ]
  },
  {
   "cell_type": "markdown",
   "metadata": {},
   "source": [
    "All the models perform more or less the same, having more or less the same accuracy. However the least cost is for My Gradient Descent Model where I used Batch gradient.\n",
    "RMSE for each model -\n",
    "SGD Regressor ->  1128.4163012583672\n",
    "My Gradient Descent Model ->  1121.3138651876982\n",
    "My Normal Equation Mpdel ->  1137.526120269591\n",
    "The results seems to be good but maybe the error could be reduced through some other models which are yet to be explored.\n",
    "Since all the 3 models here give comparable results, the error seems to be fine."
   ]
  },
  {
   "cell_type": "markdown",
   "metadata": {
    "colab_type": "text",
    "id": "p3APwxFXTMk_"
   },
   "source": [
    "- - -\n",
    "## 6. PRESENTATION OF YOUR SOLUTION (10 pts)"
   ]
  },
  {
   "cell_type": "markdown",
   "metadata": {
    "colab_type": "text",
    "id": "YBWnwONKTMk_"
   },
   "source": [
    "Now that you need to write a short memo of one paragraph to be read by a non-technical audience (ie. your manager/boss). Focus on answering the following: \n",
    "\n",
    "* How can you pitch your solution to this project? \n",
    "* What did you learn so far about the problem?\n",
    "* Is there any insight moving forward to improve the solution."
   ]
  },
  {
   "cell_type": "markdown",
   "metadata": {
    "colab": {},
    "colab_type": "code",
    "id": "NPUFbP7BTMlA"
   },
   "source": [
    "# Your paragraph goes here for this section\n",
    "How can you pitch your solution to this project?->\n",
    "As our problem remains to predict the price of diamond with minimum error in our prediction, we could successfully establish our Gradient Descent model which uses Batch Descent. We could successfully get a cost of approx 1130 which is the minimum cost achieved amongst the 3 models used namely - Batch Gradient Descent, Stochastic Gradient Descent & Mini batch grdient descent.\n",
    "We also discovered that the price of the diamond is directly proportional to that of the diamond's carat and the meaurement of each of it's dimension,i.e., length(x), width(y), & depth(z).\n",
    "\n",
    "What did you learn so far about the problem?->\n",
    "We have few categorical faetures like cut, clarity and color, which we were needed to encode so that we could predict the price of diamond without dropping any feature. Also we observed that the higher learning rate quickly converges and becomes constant after about the 600th iteration. So we have obtained a really good and fast learning rate.\n",
    "\n",
    "Is there any insight moving forward to improve the solution.->\n",
    "In this dataset we didn't drop any feature and tried predicting the price of the diamond. For a better accuracy and prediction we can always try to remove or drop attributes whose correlation with the price tends to zero. We may improve the solution and the accuracy."
   ]
  },
  {
   "cell_type": "markdown",
   "metadata": {
    "colab_type": "text",
    "id": "AuS-lY8NTMlB"
   },
   "source": [
    "- - - \n",
    "### NEED HELP?"
   ]
  },
  {
   "cell_type": "markdown",
   "metadata": {
    "colab_type": "text",
    "id": "24XdTkv_TMlC"
   },
   "source": [
    "In case you get stuck in any step in the process, you may find some useful information from:\n",
    "\n",
    " * Consult my [slides](https://docs.google.com/presentation/d/10D1he89peAWaFgjtZlHpUzvOOAie_vIFT95htKCKgc0/edit?usp=sharing) and/or the textbook\n",
    " * Talk to the TA, they are available and there to help you during [office hour](https://docs.google.com/document/d/15qB84xjaS-uRJmfKmmQuCz38bLMFaoqdbuRLoZEdOYI/edit#heading=h.72k1pvft525n)\n",
    " * Come talk to me or email me <nn4pj@virginia.edu> with subject starting \"CS6316 Assignment 1:...\".\n",
    "\n",
    "Best of luck and have fun!"
   ]
  },
  {
   "cell_type": "code",
   "execution_count": 0,
   "metadata": {
    "colab": {},
    "colab_type": "code",
    "id": "7XBrwVOhTMlC"
   },
   "outputs": [],
   "source": []
  }
 ],
 "metadata": {
  "colab": {
   "name": "CS 6316 Assignment 1.ipynb",
   "provenance": [],
   "version": "0.3.2"
  },
  "kernelspec": {
   "display_name": "Python 3",
   "language": "python",
   "name": "python3"
  },
  "language_info": {
   "codemirror_mode": {
    "name": "ipython",
    "version": 3
   },
   "file_extension": ".py",
   "mimetype": "text/x-python",
   "name": "python",
   "nbconvert_exporter": "python",
   "pygments_lexer": "ipython3",
   "version": "3.6.5"
  }
 },
 "nbformat": 4,
 "nbformat_minor": 1
}
