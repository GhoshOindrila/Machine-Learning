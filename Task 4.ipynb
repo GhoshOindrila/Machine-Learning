{
 "cells": [
  {
   "cell_type": "markdown",
   "metadata": {},
   "source": [
    "# Assignment 4: Benchmarking Fashion-MNIST with ANN"
   ]
  },
  {
   "cell_type": "markdown",
   "metadata": {},
   "source": [
    "### CS 6316 Machine Learning - Department of Computer Science - University of Virginia\n",
    "\"The original MNIST dataset contains a lot of handwritten digits. Members of the AI/ML/Data Science community love this dataset and use it as a benchmark to validate their algorithms. In fact, MNIST is often the first dataset researchers try. \"If it doesn't work on MNIST, it won't work at all\", they said. \"Well, if it does work on MNIST, it may still fail on others.\" - **Zalando Research, Github Repo.**\"\n",
    "\n",
    "Fashion-MNIST is a dataset of Zalando's article images—consisting of a training set of 60,000 examples and a test set of 10,000 examples. Each example is a 28x28 grayscale image, associated with a label from 10 classes. We intend Fashion-MNIST to serve as a direct drop-in replacement for the original MNIST dataset for benchmarking machine learning algorithms. It shares the same image size and structure of training and testing splits.\n",
    "\n",
    "![Here's an example how the data looks (each class takes three-rows):](https://github.com/zalandoresearch/fashion-mnist/raw/master/doc/img/fashion-mnist-sprite.png)\n",
    "\n",
    "In this assignment, you will attempt to benchmarking the Fashion-MNIST using ANNs. You must use it to train some neural networks on TensorFlow and predict the final output of 10 classes. For deliverables, you must write code in Python and submit this Jupyter Notebook file (.ipynb) to earn a total of 100 pts. You will gain points depending on how you perform in the following sections.\n"
   ]
  },
  {
   "cell_type": "markdown",
   "metadata": {},
   "source": [
    "---\n",
    "## 1. PRE-PROCESSING THE DATA (20 pts)\n",
    "\n",
    "You can load the Fashion MNIST directly from Tensorflow using the folliwng code:\n",
    "    tf.keras.datasets.fashion_mnist.load_data();\n",
    "\n",
    "Write some code to load the data file and take a quick look at the dataset, and output the following:\n",
    "- How big is your dataset? (regarding MB) - 147 MB\n",
    "- How many entries does it have? - 70000 entries\n",
    "- How many features does it have? - 784 features (pixel-28*28)\n",
    "- What are some basic statistics you can learn right away about this dataset? - its a very large dataset. If we attempt to use traditional ML techniques, it will run very slow given the high dimensionality of the data.\n",
    "\n",
    "**Large-scale Visualization:** Demonstrate that this dataset is indeed a complex and high dimensional worthy of an attempt on TensorFlow. Again, is there any non-linearly separation among the classes? Discover and plot out all features among the features."
   ]
  },
  {
   "cell_type": "code",
   "execution_count": 1,
   "metadata": {},
   "outputs": [
    {
     "name": "stderr",
     "output_type": "stream",
     "text": [
      "C:\\Users\\Oindrila\\Anaconda3\\lib\\site-packages\\h5py\\__init__.py:36: FutureWarning: Conversion of the second argument of issubdtype from `float` to `np.floating` is deprecated. In future, it will be treated as `np.float64 == np.dtype(float).type`.\n",
      "  from ._conv import register_converters as _register_converters\n"
     ]
    }
   ],
   "source": [
    "# You might want to use the following package\n",
    "import tensorflow as tf\n",
    "import numpy as np\n",
    "import pandas as pd\n",
    "import os\n",
    "import matplotlib.pyplot as plt\n",
    "# Your code goes here for this section.\n",
    "fashion_mnist_data=tf.keras.datasets.fashion_mnist;"
   ]
  },
  {
   "cell_type": "code",
   "execution_count": 2,
   "metadata": {},
   "outputs": [],
   "source": [
    "train_data=pd.read_csv('fashion-mnist_train.csv')\n",
    "test_data=pd.read_csv('fashion-mnist_test.csv')"
   ]
  },
  {
   "cell_type": "code",
   "execution_count": 3,
   "metadata": {},
   "outputs": [
    {
     "name": "stdout",
     "output_type": "stream",
     "text": [
      "How big is your dataset? (in terms of MB)\n",
      "147 MB\n"
     ]
    }
   ],
   "source": [
    "print('How big is your dataset? (in terms of MB)')\n",
    "print ((os.path.getsize(\"fashion-mnist_train.csv\") >> 20) + (os.path.getsize(\"fashion-mnist_test.csv\") >> 20),'MB')"
   ]
  },
  {
   "cell_type": "code",
   "execution_count": 4,
   "metadata": {},
   "outputs": [
    {
     "name": "stdout",
     "output_type": "stream",
     "text": [
      "<class 'pandas.core.frame.DataFrame'>\n",
      "RangeIndex: 60000 entries, 0 to 59999\n",
      "Columns: 785 entries, label to pixel784\n",
      "dtypes: int64(785)\n",
      "memory usage: 359.3 MB\n"
     ]
    }
   ],
   "source": [
    "train_data.info()"
   ]
  },
  {
   "cell_type": "code",
   "execution_count": 5,
   "metadata": {},
   "outputs": [
    {
     "name": "stdout",
     "output_type": "stream",
     "text": [
      "<class 'pandas.core.frame.DataFrame'>\n",
      "RangeIndex: 10000 entries, 0 to 9999\n",
      "Columns: 785 entries, label to pixel784\n",
      "dtypes: int64(785)\n",
      "memory usage: 59.9 MB\n"
     ]
    }
   ],
   "source": [
    "test_data.info()"
   ]
  },
  {
   "cell_type": "code",
   "execution_count": 6,
   "metadata": {},
   "outputs": [],
   "source": [
    "X = np.array(train_data.iloc[:, 1:])\n",
    "y = tf.keras.utils.to_categorical(np.array(train_data.iloc[:, 0]))"
   ]
  },
  {
   "cell_type": "code",
   "execution_count": 7,
   "metadata": {},
   "outputs": [
    {
     "data": {
      "text/plain": [
       "<matplotlib.axes._subplots.AxesSubplot at 0x1aa220b7c50>"
      ]
     },
     "execution_count": 7,
     "metadata": {},
     "output_type": "execute_result"
    },
    {
     "data": {
      "image/png": "[encoded data removed]",
      "text/plain": [
       "<Figure size 864x288 with 1 Axes>"
      ]
     },
     "metadata": {},
     "output_type": "display_data"
    }
   ],
   "source": [
    "import seaborn as sns\n",
    "%matplotlib inline\n",
    "\n",
    "fig = plt.figure(figsize = (12, 4))\n",
    "sns.countplot(y.argmax(1))"
   ]
  },
  {
   "cell_type": "code",
   "execution_count": 8,
   "metadata": {},
   "outputs": [],
   "source": [
    "label_classes = { 0: 'T-shirt/top', 1: 'Trouser', 2: 'Pullover', 3: 'Dress', 4: 'Coat', \n",
    "          5: 'Sandal', 6: 'Shirt', 7: 'Sneaker', 8 : 'Bag', 9 : 'Ankle boot'}"
   ]
  },
  {
   "cell_type": "code",
   "execution_count": 9,
   "metadata": {},
   "outputs": [],
   "source": [
    "fashion_mnist_data=tf.keras.datasets.fashion_mnist;\n",
    "def reset_graph(seed=42):\n",
    "    tf.reset_default_graph()\n",
    "    tf.set_random_seed(seed)\n",
    "    np.random.seed(seed)"
   ]
  },
  {
   "cell_type": "code",
   "execution_count": 10,
   "metadata": {},
   "outputs": [],
   "source": [
    "(X_train, y_train), (X_test, y_test) = fashion_mnist_data.load_data()\n"
   ]
  },
  {
   "cell_type": "code",
   "execution_count": 11,
   "metadata": {},
   "outputs": [
    {
     "data": {
      "image/png": "[encoded data removed]",
      "text/plain": [
       "<Figure size 432x288 with 2 Axes>"
      ]
     },
     "metadata": {},
     "output_type": "display_data"
    }
   ],
   "source": [
    "plt.figure()\n",
    "plt.imshow(X_train[0])\n",
    "plt.colorbar()\n",
    "plt.grid(False)"
   ]
  },
  {
   "cell_type": "code",
   "execution_count": 12,
   "metadata": {},
   "outputs": [],
   "source": [
    "X_train = X_train.astype(np.float32).reshape(-1, 28*28) / 255.0\n",
    "X_test = X_test.astype(np.float32).reshape(-1, 28*28) / 255.0\n",
    "y_train = y_train.astype(np.int32)\n",
    "y_test = y_test.astype(np.int32)\n",
    "X_valid, X_train = X_train[:5000], X_train[5000:]\n",
    "y_valid, y_train = y_train[:5000], y_train[5000:]"
   ]
  },
  {
   "cell_type": "markdown",
   "metadata": {},
   "source": [
    "Given all the features and classes, we can see that classes like sneakers and ankle boots are not linearly separable. Similarly few other classes too are not linearly separable. Also with (28 * 28) pixel we can surely say that the dataset is complex and is high dimensional and hence worthy of using Tensorflow."
   ]
  },
  {
   "cell_type": "markdown",
   "metadata": {},
   "source": [
    "- - -\n",
    "## 2. CONSTRUCTION PHASE (25 pts)\n",
    "\n",
    "Define at least three networks with different structures: Ensure the input layer has the right number of inputs. The best structure often is found through a process of trial and error experimentation:\n",
    "- You may start with a fully connected network structure with two hidden layers.\n",
    "- You may try a few activation functions to see if they affect the performance.\n",
    "- You may use various optimizers to tweak the model parameters to minimize the cost function."
   ]
  },
  {
   "cell_type": "code",
   "execution_count": 13,
   "metadata": {},
   "outputs": [],
   "source": [
    "# Your code goes here\n",
    "n_inputs = 28*28 # MNIST\n",
    "n_hidden1 = 300\n",
    "n_hidden2 = 100\n",
    "n_outputs = 10\n",
    "reset_graph()\n",
    "X = tf.placeholder(tf.float32, shape=(None, n_inputs), name=\"X\")\n",
    "y = tf.placeholder(tf.int32, shape=(None), name=\"y\")\n"
   ]
  },
  {
   "cell_type": "code",
   "execution_count": 14,
   "metadata": {},
   "outputs": [],
   "source": [
    "def neuron_layer(X, n_neurons, name, activation=None):\n",
    "    with tf.name_scope(name):\n",
    "        n_inputs = int(X.get_shape()[1])\n",
    "        stddev = 2 / np.sqrt(n_inputs)\n",
    "        init = tf.truncated_normal((n_inputs, n_neurons), stddev=stddev)\n",
    "        W = tf.Variable(init, name=\"kernel\")\n",
    "        b = tf.Variable(tf.zeros([n_neurons]), name=\"bias\")\n",
    "        Z = tf.matmul(X, W) + b\n",
    "        if activation is not None:\n",
    "            return activation(Z)\n",
    "        else:\n",
    "            return Z"
   ]
  },
  {
   "cell_type": "code",
   "execution_count": 15,
   "metadata": {},
   "outputs": [],
   "source": [
    "with tf.name_scope(\"dnn\"):\n",
    "    hidden1 = neuron_layer(X, n_hidden1, name=\"hidden1\",\n",
    "                           activation=tf.nn.relu)\n",
    "    hidden2 = neuron_layer(hidden1, n_hidden2, name=\"hidden2\",\n",
    "                           activation=tf.nn.relu)\n",
    "    logits = neuron_layer(hidden2, n_outputs, name=\"outputs\")"
   ]
  },
  {
   "cell_type": "code",
   "execution_count": 16,
   "metadata": {},
   "outputs": [],
   "source": [
    "with tf.name_scope(\"loss\"):\n",
    "    xentropy = tf.nn.sparse_softmax_cross_entropy_with_logits(labels=y,\n",
    "                                                              logits=logits)\n",
    "    loss = tf.reduce_mean(xentropy, name=\"loss\")"
   ]
  },
  {
   "cell_type": "code",
   "execution_count": 17,
   "metadata": {},
   "outputs": [],
   "source": [
    "learning_rate = 0.01\n",
    "\n",
    "with tf.name_scope(\"train\"):\n",
    "    optimizer = tf.train.GradientDescentOptimizer(learning_rate)\n",
    "    training_op = optimizer.minimize(loss)"
   ]
  },
  {
   "cell_type": "code",
   "execution_count": 18,
   "metadata": {},
   "outputs": [],
   "source": [
    "with tf.name_scope(\"eval\"):\n",
    "    correct = tf.nn.in_top_k(logits, y, 1)\n",
    "    accuracy = tf.reduce_mean(tf.cast(correct, tf.float32))"
   ]
  },
  {
   "cell_type": "markdown",
   "metadata": {},
   "source": [
    "- - -\n",
    "## 3. EXECUTION PHASE (30 pts)\n",
    "\n",
    "For each of the three models of your neural networks, open a TensorFlow session, define the number of epochs and size of the training batch (20 pts): For each model, you must compute the performance measures: Confusion Matrix and Class Accuracy.\n",
    "- Which one yields the best performance measure for your dataset?\n",
    "- You must be able to save the trained model and load it from disk to evaluate a test set\n"
   ]
  },
  {
   "cell_type": "code",
   "execution_count": 19,
   "metadata": {},
   "outputs": [],
   "source": [
    "# Your code goes here\n",
    "init = tf.global_variables_initializer()\n",
    "saver = tf.train.Saver()"
   ]
  },
  {
   "cell_type": "code",
   "execution_count": 20,
   "metadata": {},
   "outputs": [],
   "source": [
    "n_epochs = 40\n",
    "batch_size = 50"
   ]
  },
  {
   "cell_type": "code",
   "execution_count": 21,
   "metadata": {},
   "outputs": [],
   "source": [
    "def shuffle_batch(X, y, batch_size):\n",
    "    rnd_idx = np.random.permutation(len(X))\n",
    "    n_batches = len(X) // batch_size\n",
    "    for batch_idx in np.array_split(rnd_idx, n_batches):\n",
    "        X_batch, y_batch = X[batch_idx], y[batch_idx]\n",
    "        yield X_batch, y_batch"
   ]
  },
  {
   "cell_type": "code",
   "execution_count": 22,
   "metadata": {},
   "outputs": [
    {
     "name": "stdout",
     "output_type": "stream",
     "text": [
      "0 Batch accuracy: 0.8 Val accuracy: 0.8392\n",
      "1 Batch accuracy: 0.8 Val accuracy: 0.8492\n",
      "2 Batch accuracy: 0.86 Val accuracy: 0.8592\n",
      "3 Batch accuracy: 0.96 Val accuracy: 0.852\n",
      "4 Batch accuracy: 0.9 Val accuracy: 0.86\n",
      "5 Batch accuracy: 0.9 Val accuracy: 0.8646\n",
      "6 Batch accuracy: 0.92 Val accuracy: 0.8718\n",
      "7 Batch accuracy: 0.9 Val accuracy: 0.8708\n",
      "8 Batch accuracy: 0.9 Val accuracy: 0.865\n",
      "9 Batch accuracy: 0.86 Val accuracy: 0.8742\n",
      "10 Batch accuracy: 0.86 Val accuracy: 0.8756\n",
      "11 Batch accuracy: 0.92 Val accuracy: 0.8788\n",
      "12 Batch accuracy: 0.88 Val accuracy: 0.8724\n",
      "13 Batch accuracy: 0.92 Val accuracy: 0.8788\n",
      "14 Batch accuracy: 0.86 Val accuracy: 0.8796\n",
      "15 Batch accuracy: 0.84 Val accuracy: 0.881\n",
      "16 Batch accuracy: 0.9 Val accuracy: 0.8802\n",
      "17 Batch accuracy: 0.94 Val accuracy: 0.8796\n",
      "18 Batch accuracy: 0.88 Val accuracy: 0.8856\n",
      "19 Batch accuracy: 1.0 Val accuracy: 0.8814\n",
      "20 Batch accuracy: 0.94 Val accuracy: 0.889\n",
      "21 Batch accuracy: 0.94 Val accuracy: 0.8874\n",
      "22 Batch accuracy: 0.96 Val accuracy: 0.8858\n",
      "23 Batch accuracy: 0.9 Val accuracy: 0.8874\n",
      "24 Batch accuracy: 0.94 Val accuracy: 0.8902\n",
      "25 Batch accuracy: 0.96 Val accuracy: 0.89\n",
      "26 Batch accuracy: 0.98 Val accuracy: 0.8902\n",
      "27 Batch accuracy: 0.9 Val accuracy: 0.8868\n",
      "28 Batch accuracy: 0.98 Val accuracy: 0.8844\n",
      "29 Batch accuracy: 0.98 Val accuracy: 0.8868\n",
      "30 Batch accuracy: 0.86 Val accuracy: 0.8924\n",
      "31 Batch accuracy: 0.96 Val accuracy: 0.891\n",
      "32 Batch accuracy: 0.94 Val accuracy: 0.889\n",
      "33 Batch accuracy: 0.96 Val accuracy: 0.8912\n",
      "34 Batch accuracy: 0.86 Val accuracy: 0.8942\n",
      "35 Batch accuracy: 0.98 Val accuracy: 0.8934\n",
      "36 Batch accuracy: 0.92 Val accuracy: 0.893\n",
      "37 Batch accuracy: 0.94 Val accuracy: 0.8954\n",
      "38 Batch accuracy: 0.94 Val accuracy: 0.8904\n",
      "39 Batch accuracy: 0.96 Val accuracy: 0.8936\n"
     ]
    }
   ],
   "source": [
    "with tf.Session() as sess:\n",
    "    init.run()\n",
    "    for epoch in range(n_epochs):\n",
    "        for X_batch, y_batch in shuffle_batch(X_train, y_train, batch_size):\n",
    "            sess.run(training_op, feed_dict={X: X_batch, y: y_batch})\n",
    "        acc_batch = accuracy.eval(feed_dict={X: X_batch, y: y_batch})\n",
    "        acc_val = accuracy.eval(feed_dict={X: X_valid, y: y_valid})\n",
    "        print(epoch, \"Batch accuracy:\", acc_batch, \"Val accuracy:\", acc_val)\n",
    "\n",
    "    save_path = saver.save(sess, \"./my_model_final.ckpt\")"
   ]
  },
  {
   "cell_type": "code",
   "execution_count": 24,
   "metadata": {},
   "outputs": [
    {
     "name": "stdout",
     "output_type": "stream",
     "text": [
      "INFO:tensorflow:Restoring parameters from ./my_model_final.ckpt\n"
     ]
    }
   ],
   "source": [
    "with tf.Session() as sess:\n",
    "    saver.restore(sess, \"./my_model_final.ckpt\") # or better, use save_path\n",
    "    X_new_scaled = X_test\n",
    "    Z = logits.eval(feed_dict={X: X_new_scaled})\n",
    "    y_pred = np.argmax(Z, axis=1)"
   ]
  },
  {
   "cell_type": "code",
   "execution_count": 25,
   "metadata": {},
   "outputs": [
    {
     "data": {
      "text/plain": [
       "0.8868"
      ]
     },
     "execution_count": 25,
     "metadata": {},
     "output_type": "execute_result"
    }
   ],
   "source": [
    "from sklearn.metrics import accuracy_score\n",
    "accuracy_score(y_test, y_pred)"
   ]
  },
  {
   "cell_type": "code",
   "execution_count": 26,
   "metadata": {},
   "outputs": [
    {
     "data": {
      "text/plain": [
       "array([[861,   0,  23,  19,   6,   1,  83,   0,   7,   0],\n",
       "       [  3, 971,   3,  17,   2,   0,   4,   0,   0,   0],\n",
       "       [ 17,   0, 856,   7,  74,   1,  44,   0,   1,   0],\n",
       "       [ 31,  10,  17, 880,  36,   0,  22,   0,   4,   0],\n",
       "       [  0,   1, 107,  29, 813,   0,  47,   0,   3,   0],\n",
       "       [  0,   0,   0,   1,   0, 969,   0,  19,   2,   9],\n",
       "       [143,   1, 108,  17,  66,   0, 652,   0,  13,   0],\n",
       "       [  0,   0,   0,   0,   0,  29,   0, 947,   0,  24],\n",
       "       [  4,   0,   9,   2,   5,   2,  10,   4, 964,   0],\n",
       "       [  0,   0,   0,   0,   0,  11,   1,  33,   0, 955]], dtype=int64)"
      ]
     },
     "execution_count": 26,
     "metadata": {},
     "output_type": "execute_result"
    }
   ],
   "source": [
    "from sklearn.metrics import confusion_matrix\n",
    "confusion_matrix(y_test, y_pred)"
   ]
  },
  {
   "cell_type": "markdown",
   "metadata": {},
   "source": [
    "# 2nd Model- Construction Phase"
   ]
  },
  {
   "cell_type": "code",
   "execution_count": 27,
   "metadata": {},
   "outputs": [],
   "source": [
    "n_inputs = 28*28\n",
    "n_hidden1 = 400\n",
    "n_hidden2 = 200\n",
    "n_outputs = 10"
   ]
  },
  {
   "cell_type": "code",
   "execution_count": 28,
   "metadata": {},
   "outputs": [],
   "source": [
    "reset_graph()\n",
    "\n",
    "X = tf.placeholder(tf.float32, shape=(None, n_inputs), name=\"X\")\n",
    "y = tf.placeholder(tf.int32, shape=(None), name=\"y\")"
   ]
  },
  {
   "cell_type": "code",
   "execution_count": 29,
   "metadata": {},
   "outputs": [],
   "source": [
    "with tf.name_scope(\"dnn\"):\n",
    "    hidden1 = neuron_layer(X, n_hidden1, name=\"hidden1\",\n",
    "                           activation=tf.nn.relu)\n",
    "    hidden2 = neuron_layer(hidden1, n_hidden2, name=\"hidden2\",\n",
    "                           activation=tf.nn.relu)\n",
    "    logits = neuron_layer(hidden2, n_outputs, name=\"outputs\")"
   ]
  },
  {
   "cell_type": "code",
   "execution_count": 30,
   "metadata": {},
   "outputs": [],
   "source": [
    "with tf.name_scope(\"loss\"):\n",
    "    xentropy = tf.nn.sparse_softmax_cross_entropy_with_logits(labels=y,\n",
    "                                                              logits=logits)\n",
    "    loss = tf.reduce_mean(xentropy, name=\"loss\")"
   ]
  },
  {
   "cell_type": "code",
   "execution_count": 31,
   "metadata": {},
   "outputs": [],
   "source": [
    "learning_rate = 0.01\n",
    "\n",
    "with tf.name_scope(\"train\"):\n",
    "    optimizer = tf.train.GradientDescentOptimizer(learning_rate)\n",
    "    training_op = optimizer.minimize(loss)"
   ]
  },
  {
   "cell_type": "code",
   "execution_count": 32,
   "metadata": {},
   "outputs": [],
   "source": [
    "with tf.name_scope(\"eval\"):\n",
    "    correct = tf.nn.in_top_k(logits, y, 1)\n",
    "    accuracy = tf.reduce_mean(tf.cast(correct, tf.float32))"
   ]
  },
  {
   "cell_type": "markdown",
   "metadata": {},
   "source": [
    "# 2nd Model- Execution Phase"
   ]
  },
  {
   "cell_type": "code",
   "execution_count": 33,
   "metadata": {},
   "outputs": [],
   "source": [
    "init = tf.global_variables_initializer()\n",
    "saver = tf.train.Saver()"
   ]
  },
  {
   "cell_type": "code",
   "execution_count": 34,
   "metadata": {},
   "outputs": [
    {
     "name": "stdout",
     "output_type": "stream",
     "text": [
      "0 Batch accuracy: 0.86 Val accuracy: 0.8426\n",
      "1 Batch accuracy: 0.74 Val accuracy: 0.853\n",
      "2 Batch accuracy: 0.86 Val accuracy: 0.8594\n",
      "3 Batch accuracy: 0.9 Val accuracy: 0.8594\n",
      "4 Batch accuracy: 0.86 Val accuracy: 0.863\n",
      "5 Batch accuracy: 0.92 Val accuracy: 0.867\n",
      "6 Batch accuracy: 0.92 Val accuracy: 0.877\n",
      "7 Batch accuracy: 0.88 Val accuracy: 0.8754\n",
      "8 Batch accuracy: 0.88 Val accuracy: 0.8716\n",
      "9 Batch accuracy: 0.84 Val accuracy: 0.8784\n",
      "10 Batch accuracy: 0.86 Val accuracy: 0.8794\n",
      "11 Batch accuracy: 0.92 Val accuracy: 0.8834\n",
      "12 Batch accuracy: 0.84 Val accuracy: 0.8792\n",
      "13 Batch accuracy: 0.94 Val accuracy: 0.8778\n",
      "14 Batch accuracy: 0.86 Val accuracy: 0.886\n",
      "15 Batch accuracy: 0.86 Val accuracy: 0.881\n",
      "16 Batch accuracy: 0.88 Val accuracy: 0.8854\n",
      "17 Batch accuracy: 0.92 Val accuracy: 0.8876\n",
      "18 Batch accuracy: 0.88 Val accuracy: 0.8864\n",
      "19 Batch accuracy: 0.96 Val accuracy: 0.8878\n",
      "20 Batch accuracy: 0.96 Val accuracy: 0.89\n",
      "21 Batch accuracy: 0.92 Val accuracy: 0.8914\n",
      "22 Batch accuracy: 0.96 Val accuracy: 0.8834\n",
      "23 Batch accuracy: 0.94 Val accuracy: 0.8888\n",
      "24 Batch accuracy: 0.9 Val accuracy: 0.8906\n",
      "25 Batch accuracy: 1.0 Val accuracy: 0.8928\n",
      "26 Batch accuracy: 0.98 Val accuracy: 0.8914\n",
      "27 Batch accuracy: 0.94 Val accuracy: 0.8902\n",
      "28 Batch accuracy: 0.96 Val accuracy: 0.8884\n",
      "29 Batch accuracy: 0.96 Val accuracy: 0.891\n",
      "30 Batch accuracy: 0.92 Val accuracy: 0.898\n",
      "31 Batch accuracy: 0.96 Val accuracy: 0.8902\n",
      "32 Batch accuracy: 0.96 Val accuracy: 0.8896\n",
      "33 Batch accuracy: 0.96 Val accuracy: 0.8928\n",
      "34 Batch accuracy: 0.92 Val accuracy: 0.8952\n",
      "35 Batch accuracy: 0.98 Val accuracy: 0.8962\n",
      "36 Batch accuracy: 0.94 Val accuracy: 0.8964\n",
      "37 Batch accuracy: 0.96 Val accuracy: 0.8982\n",
      "38 Batch accuracy: 0.96 Val accuracy: 0.896\n",
      "39 Batch accuracy: 0.96 Val accuracy: 0.899\n"
     ]
    }
   ],
   "source": [
    "with tf.Session() as sess:\n",
    "    init.run()\n",
    "    for epoch in range(n_epochs):\n",
    "        for X_batch, y_batch in shuffle_batch(X_train, y_train, batch_size):\n",
    "            sess.run(training_op, feed_dict={X: X_batch, y: y_batch})\n",
    "        acc_batch = accuracy.eval(feed_dict={X: X_batch, y: y_batch})\n",
    "        acc_val = accuracy.eval(feed_dict={X: X_valid, y: y_valid})\n",
    "        print(epoch, \"Batch accuracy:\", acc_batch, \"Val accuracy:\", acc_val)\n",
    "\n",
    "    save_path = saver.save(sess, \"./model2.ckpt\")"
   ]
  },
  {
   "cell_type": "code",
   "execution_count": 35,
   "metadata": {},
   "outputs": [
    {
     "name": "stdout",
     "output_type": "stream",
     "text": [
      "INFO:tensorflow:Restoring parameters from ./model2.ckpt\n"
     ]
    }
   ],
   "source": [
    "with tf.Session() as sess:\n",
    "    saver.restore(sess, \"./model2.ckpt\") # or better, use save_path\n",
    "    X_new_scaled = X_test\n",
    "    Z = logits.eval(feed_dict={X: X_new_scaled})\n",
    "    y_pred = np.argmax(Z, axis=1)"
   ]
  },
  {
   "cell_type": "code",
   "execution_count": 36,
   "metadata": {},
   "outputs": [
    {
     "data": {
      "text/plain": [
       "0.8877"
      ]
     },
     "execution_count": 36,
     "metadata": {},
     "output_type": "execute_result"
    }
   ],
   "source": [
    "accuracy_score(y_test, y_pred)"
   ]
  },
  {
   "cell_type": "code",
   "execution_count": 37,
   "metadata": {},
   "outputs": [
    {
     "data": {
      "text/plain": [
       "array([[864,   2,  23,  18,   4,   2,  77,   0,  10,   0],\n",
       "       [  5, 970,   0,  20,   3,   0,   2,   0,   0,   0],\n",
       "       [ 17,   0, 873,  12,  63,   0,  34,   0,   1,   0],\n",
       "       [ 23,   8,  24, 886,  37,   0,  16,   0,   6,   0],\n",
       "       [  1,   1, 121,  24, 812,   0,  39,   0,   2,   0],\n",
       "       [  0,   0,   0,   0,   0, 965,   0,  19,   2,  14],\n",
       "       [133,   1, 117,  24,  75,   0, 639,   0,  11,   0],\n",
       "       [  0,   0,   0,   0,   0,  21,   0, 958,   0,  21],\n",
       "       [  5,   0,  11,   7,   3,   4,   7,   3, 960,   0],\n",
       "       [  1,   0,   0,   0,   0,  13,   0,  36,   0, 950]], dtype=int64)"
      ]
     },
     "execution_count": 37,
     "metadata": {},
     "output_type": "execute_result"
    }
   ],
   "source": [
    "from sklearn.metrics import confusion_matrix\n",
    "confusion_matrix(y_test, y_pred)"
   ]
  },
  {
   "cell_type": "markdown",
   "metadata": {},
   "source": [
    "# 3rd Model - Construction Phase"
   ]
  },
  {
   "cell_type": "code",
   "execution_count": 38,
   "metadata": {},
   "outputs": [],
   "source": [
    "n_inputs = 28*28\n",
    "n_hidden1 = 350\n",
    "n_hidden2 = 100\n",
    "n_outputs = 10\n",
    "\n",
    "reset_graph()\n",
    "\n",
    "X = tf.placeholder(tf.float32, shape=(None, n_inputs), name=\"X\")\n",
    "y = tf.placeholder(tf.int32, shape=(None), name=\"y\")"
   ]
  },
  {
   "cell_type": "code",
   "execution_count": 39,
   "metadata": {},
   "outputs": [],
   "source": [
    "with tf.name_scope(\"dnn\"):\n",
    "    hidden1 = neuron_layer(X, n_hidden1, name=\"hidden1\",\n",
    "                           activation=tf.nn.elu)\n",
    "    hidden2 = neuron_layer(hidden1, n_hidden2, name=\"hidden2\",\n",
    "                           activation=tf.nn.elu)\n",
    "    logits = neuron_layer(hidden2, n_outputs, name=\"outputs\")"
   ]
  },
  {
   "cell_type": "code",
   "execution_count": 40,
   "metadata": {},
   "outputs": [],
   "source": [
    "with tf.name_scope(\"loss\"):\n",
    "    xentropy = tf.nn.sparse_softmax_cross_entropy_with_logits(labels=y,\n",
    "                                                              logits=logits)\n",
    "    loss = tf.reduce_mean(xentropy, name=\"loss\")"
   ]
  },
  {
   "cell_type": "code",
   "execution_count": 41,
   "metadata": {},
   "outputs": [],
   "source": [
    "learning_rate = 0.01\n",
    "\n",
    "with tf.name_scope(\"train\"):\n",
    "    optimizer = tf.train.GradientDescentOptimizer(learning_rate)\n",
    "    training_op = optimizer.minimize(loss)"
   ]
  },
  {
   "cell_type": "code",
   "execution_count": 42,
   "metadata": {},
   "outputs": [],
   "source": [
    "with tf.name_scope(\"eval\"):\n",
    "    correct = tf.nn.in_top_k(logits, y, 1)\n",
    "    accuracy = tf.reduce_mean(tf.cast(correct, tf.float32))"
   ]
  },
  {
   "cell_type": "markdown",
   "metadata": {},
   "source": [
    "# 3rd Model - Execution Phase"
   ]
  },
  {
   "cell_type": "code",
   "execution_count": 43,
   "metadata": {},
   "outputs": [],
   "source": [
    "init = tf.global_variables_initializer()\n",
    "saver = tf.train.Saver()"
   ]
  },
  {
   "cell_type": "code",
   "execution_count": 44,
   "metadata": {},
   "outputs": [
    {
     "name": "stdout",
     "output_type": "stream",
     "text": [
      "0 Batch accuracy: 0.72 Val accuracy: 0.8444\n",
      "1 Batch accuracy: 0.74 Val accuracy: 0.8528\n",
      "2 Batch accuracy: 0.86 Val accuracy: 0.8566\n",
      "3 Batch accuracy: 0.9 Val accuracy: 0.855\n",
      "4 Batch accuracy: 0.9 Val accuracy: 0.859\n",
      "5 Batch accuracy: 0.92 Val accuracy: 0.862\n",
      "6 Batch accuracy: 0.94 Val accuracy: 0.8686\n",
      "7 Batch accuracy: 0.88 Val accuracy: 0.8684\n",
      "8 Batch accuracy: 0.9 Val accuracy: 0.8656\n",
      "9 Batch accuracy: 0.9 Val accuracy: 0.8706\n",
      "10 Batch accuracy: 0.86 Val accuracy: 0.875\n",
      "11 Batch accuracy: 0.92 Val accuracy: 0.8736\n",
      "12 Batch accuracy: 0.86 Val accuracy: 0.8692\n",
      "13 Batch accuracy: 0.9 Val accuracy: 0.8668\n",
      "14 Batch accuracy: 0.84 Val accuracy: 0.8762\n",
      "15 Batch accuracy: 0.84 Val accuracy: 0.874\n",
      "16 Batch accuracy: 0.88 Val accuracy: 0.8776\n",
      "17 Batch accuracy: 0.94 Val accuracy: 0.8796\n",
      "18 Batch accuracy: 0.84 Val accuracy: 0.8802\n",
      "19 Batch accuracy: 0.94 Val accuracy: 0.88\n",
      "20 Batch accuracy: 0.94 Val accuracy: 0.8832\n",
      "21 Batch accuracy: 0.92 Val accuracy: 0.882\n",
      "22 Batch accuracy: 0.92 Val accuracy: 0.88\n",
      "23 Batch accuracy: 0.9 Val accuracy: 0.8826\n",
      "24 Batch accuracy: 0.88 Val accuracy: 0.8804\n",
      "25 Batch accuracy: 0.98 Val accuracy: 0.8848\n",
      "26 Batch accuracy: 0.98 Val accuracy: 0.8866\n",
      "27 Batch accuracy: 0.9 Val accuracy: 0.8814\n",
      "28 Batch accuracy: 0.94 Val accuracy: 0.878\n",
      "29 Batch accuracy: 0.96 Val accuracy: 0.8842\n",
      "30 Batch accuracy: 0.88 Val accuracy: 0.889\n",
      "31 Batch accuracy: 0.96 Val accuracy: 0.884\n",
      "32 Batch accuracy: 0.94 Val accuracy: 0.883\n",
      "33 Batch accuracy: 0.96 Val accuracy: 0.8862\n",
      "34 Batch accuracy: 0.86 Val accuracy: 0.8886\n",
      "35 Batch accuracy: 1.0 Val accuracy: 0.8884\n",
      "36 Batch accuracy: 0.9 Val accuracy: 0.889\n",
      "37 Batch accuracy: 0.88 Val accuracy: 0.8916\n",
      "38 Batch accuracy: 0.94 Val accuracy: 0.8902\n",
      "39 Batch accuracy: 0.98 Val accuracy: 0.888\n"
     ]
    }
   ],
   "source": [
    "with tf.Session() as sess:\n",
    "    init.run()\n",
    "    for epoch in range(n_epochs):\n",
    "        for X_batch, y_batch in shuffle_batch(X_train, y_train, batch_size):\n",
    "            sess.run(training_op, feed_dict={X: X_batch, y: y_batch})\n",
    "        acc_batch = accuracy.eval(feed_dict={X: X_batch, y: y_batch})\n",
    "        acc_val = accuracy.eval(feed_dict={X: X_valid, y: y_valid})\n",
    "        print(epoch, \"Batch accuracy:\", acc_batch, \"Val accuracy:\", acc_val)\n",
    "\n",
    "    save_path = saver.save(sess, \"./model3.ckpt\")"
   ]
  },
  {
   "cell_type": "code",
   "execution_count": 45,
   "metadata": {},
   "outputs": [
    {
     "name": "stdout",
     "output_type": "stream",
     "text": [
      "INFO:tensorflow:Restoring parameters from ./model3.ckpt\n"
     ]
    }
   ],
   "source": [
    "with tf.Session() as sess:\n",
    "    saver.restore(sess, \"./model3.ckpt\") # or better, use save_path\n",
    "    X_new_scaled = X_test\n",
    "    Z = logits.eval(feed_dict={X: X_new_scaled})\n",
    "    y_pred = np.argmax(Z, axis=1)"
   ]
  },
  {
   "cell_type": "code",
   "execution_count": 46,
   "metadata": {},
   "outputs": [
    {
     "data": {
      "text/plain": [
       "0.8815"
      ]
     },
     "execution_count": 46,
     "metadata": {},
     "output_type": "execute_result"
    }
   ],
   "source": [
    "accuracy_score(y_test, y_pred)"
   ]
  },
  {
   "cell_type": "code",
   "execution_count": 47,
   "metadata": {},
   "outputs": [
    {
     "data": {
      "text/plain": [
       "array([[861,   0,  27,  21,   4,   1,  77,   0,   9,   0],\n",
       "       [  3, 968,   0,  23,   2,   0,   3,   0,   1,   0],\n",
       "       [ 16,   1, 867,  10,  49,   1,  54,   0,   2,   0],\n",
       "       [ 28,   9,  15, 886,  35,   1,  24,   0,   2,   0],\n",
       "       [  1,   1, 149,  27, 764,   0,  55,   0,   3,   0],\n",
       "       [  0,   0,   0,   1,   0, 951,   0,  30,   2,  16],\n",
       "       [139,   2, 110,  27,  58,   0, 653,   0,  11,   0],\n",
       "       [  0,   0,   0,   0,   0,  24,   0, 945,   0,  31],\n",
       "       [  6,   2,   8,   7,   2,   3,   6,   4, 962,   0],\n",
       "       [  0,   0,   0,   0,   0,   8,   1,  33,   0, 958]], dtype=int64)"
      ]
     },
     "execution_count": 47,
     "metadata": {},
     "output_type": "execute_result"
    }
   ],
   "source": [
    "from sklearn.metrics import confusion_matrix\n",
    "confusion_matrix(y_test, y_pred)"
   ]
  },
  {
   "cell_type": "markdown",
   "metadata": {},
   "source": [
    "- - -\n",
    "## 4. FINETUNING THE NETWORK (20 pts)\n",
    "\n",
    "You may be able to compare the performance of your method agaist other ML methods below:\n",
    "http://fashion-mnist.s3-website.eu-central-1.amazonaws.com\n",
    "\n",
    "To improve the performance of your ANN, you can use grid search with cross-validation to find the right set of hyperparameters, but that would take a lot of times (days, sometimes weeks). Therefore, you must make some decision of which reasonable values for each hyperparameter, so that you can restrict the search space. Here's a few decision about the network you have to made and justify:\n",
    "\n",
    "- The number of hidden layers. Why did you pick this many?\n",
    "- The number of neurons per hidden layers. Provide some justifiable reasons\n",
    "- Which activation functions need to be used? Why?\n",
    "\n"
   ]
  },
  {
   "cell_type": "code",
   "execution_count": 48,
   "metadata": {},
   "outputs": [],
   "source": [
    "n_inputs = 28*28\n",
    "n_hidden1 = 400\n",
    "n_hidden2 = 200\n",
    "n_outputs = 10\n",
    "\n",
    "reset_graph()\n",
    "\n",
    "X = tf.placeholder(tf.float32, shape=(None, n_inputs), name=\"X\")\n",
    "y = tf.placeholder(tf.int32, shape=(None), name=\"y\")"
   ]
  },
  {
   "cell_type": "code",
   "execution_count": 49,
   "metadata": {},
   "outputs": [],
   "source": [
    "with tf.name_scope(\"dnn\"):\n",
    "    hidden1 = neuron_layer(X, n_hidden1, name=\"hidden1\",\n",
    "                           activation=tf.nn.relu)\n",
    "    hidden2 = neuron_layer(hidden1, n_hidden2, name=\"hidden2\",\n",
    "                           activation=tf.nn.relu)\n",
    "    logits = neuron_layer(hidden2, n_outputs, name=\"outputs\")"
   ]
  },
  {
   "cell_type": "code",
   "execution_count": 50,
   "metadata": {},
   "outputs": [],
   "source": [
    "with tf.name_scope(\"loss\"):\n",
    "    xentropy = tf.nn.sparse_softmax_cross_entropy_with_logits(labels=y,\n",
    "                                                              logits=logits)\n",
    "    loss = tf.reduce_mean(xentropy, name=\"loss\")"
   ]
  },
  {
   "cell_type": "code",
   "execution_count": 57,
   "metadata": {},
   "outputs": [],
   "source": [
    "learning_rate = 0.001\n",
    "momentum = 0.5\n",
    "with tf.name_scope(\"train\"):\n",
    "    optimizer = tf.train.AdamOptimizer(learning_rate)\n",
    "    training_op = optimizer.minimize(loss)"
   ]
  },
  {
   "cell_type": "code",
   "execution_count": 58,
   "metadata": {},
   "outputs": [],
   "source": [
    "with tf.name_scope(\"eval\"):\n",
    "    correct = tf.nn.in_top_k(logits, y, 1)\n",
    "    accuracy = tf.reduce_mean(tf.cast(correct, tf.float32))"
   ]
  },
  {
   "cell_type": "code",
   "execution_count": 59,
   "metadata": {},
   "outputs": [],
   "source": [
    "init = tf.global_variables_initializer()\n",
    "saver = tf.train.Saver()"
   ]
  },
  {
   "cell_type": "code",
   "execution_count": 60,
   "metadata": {},
   "outputs": [
    {
     "name": "stdout",
     "output_type": "stream",
     "text": [
      "0 Batch accuracy: 0.8 Val accuracy: 0.8608\n",
      "1 Batch accuracy: 0.92 Val accuracy: 0.8744\n",
      "2 Batch accuracy: 0.86 Val accuracy: 0.8852\n",
      "3 Batch accuracy: 0.84 Val accuracy: 0.8858\n",
      "4 Batch accuracy: 0.94 Val accuracy: 0.8896\n",
      "5 Batch accuracy: 0.92 Val accuracy: 0.8876\n",
      "6 Batch accuracy: 0.86 Val accuracy: 0.8918\n",
      "7 Batch accuracy: 0.96 Val accuracy: 0.8826\n",
      "8 Batch accuracy: 0.94 Val accuracy: 0.8922\n",
      "9 Batch accuracy: 0.88 Val accuracy: 0.8934\n",
      "10 Batch accuracy: 0.92 Val accuracy: 0.8948\n",
      "11 Batch accuracy: 0.92 Val accuracy: 0.8968\n",
      "12 Batch accuracy: 0.88 Val accuracy: 0.8968\n",
      "13 Batch accuracy: 0.9 Val accuracy: 0.8966\n",
      "14 Batch accuracy: 0.96 Val accuracy: 0.8998\n",
      "15 Batch accuracy: 0.94 Val accuracy: 0.8962\n",
      "16 Batch accuracy: 1.0 Val accuracy: 0.8988\n",
      "17 Batch accuracy: 0.94 Val accuracy: 0.9014\n",
      "18 Batch accuracy: 0.94 Val accuracy: 0.8932\n",
      "19 Batch accuracy: 0.94 Val accuracy: 0.9\n",
      "20 Batch accuracy: 0.96 Val accuracy: 0.9\n",
      "21 Batch accuracy: 0.94 Val accuracy: 0.8994\n",
      "22 Batch accuracy: 1.0 Val accuracy: 0.8988\n",
      "23 Batch accuracy: 0.96 Val accuracy: 0.8998\n",
      "24 Batch accuracy: 0.98 Val accuracy: 0.901\n",
      "25 Batch accuracy: 0.96 Val accuracy: 0.8944\n",
      "26 Batch accuracy: 0.92 Val accuracy: 0.909\n",
      "27 Batch accuracy: 0.94 Val accuracy: 0.8998\n",
      "28 Batch accuracy: 0.92 Val accuracy: 0.8992\n",
      "29 Batch accuracy: 1.0 Val accuracy: 0.8986\n",
      "30 Batch accuracy: 1.0 Val accuracy: 0.8962\n",
      "31 Batch accuracy: 0.94 Val accuracy: 0.8976\n",
      "32 Batch accuracy: 0.98 Val accuracy: 0.9016\n",
      "33 Batch accuracy: 0.96 Val accuracy: 0.9\n",
      "34 Batch accuracy: 0.96 Val accuracy: 0.9046\n",
      "35 Batch accuracy: 0.94 Val accuracy: 0.8978\n",
      "36 Batch accuracy: 0.98 Val accuracy: 0.9036\n",
      "37 Batch accuracy: 0.98 Val accuracy: 0.8998\n",
      "38 Batch accuracy: 1.0 Val accuracy: 0.9002\n",
      "39 Batch accuracy: 0.98 Val accuracy: 0.902\n"
     ]
    }
   ],
   "source": [
    "with tf.Session() as sess:\n",
    "    init.run()\n",
    "    for epoch in range(n_epochs):\n",
    "        for X_batch, y_batch in shuffle_batch(X_train, y_train, batch_size):\n",
    "            sess.run(training_op, feed_dict={X: X_batch, y: y_batch})\n",
    "        acc_batch = accuracy.eval(feed_dict={X: X_batch, y: y_batch})\n",
    "        acc_val = accuracy.eval(feed_dict={X: X_valid, y: y_valid})\n",
    "        print(epoch, \"Batch accuracy:\", acc_batch, \"Val accuracy:\", acc_val)\n",
    "\n",
    "    save_path = saver.save(sess, \"./my_model_final.ckpt\")"
   ]
  },
  {
   "cell_type": "code",
   "execution_count": 61,
   "metadata": {},
   "outputs": [
    {
     "name": "stdout",
     "output_type": "stream",
     "text": [
      "INFO:tensorflow:Restoring parameters from ./my_model_final.ckpt\n"
     ]
    }
   ],
   "source": [
    "with tf.Session() as sess:\n",
    "    saver.restore(sess, \"./my_model_final.ckpt\") # or better, use save_path\n",
    "    X_new_scaled = X_test\n",
    "    Z = logits.eval(feed_dict={X: X_new_scaled})\n",
    "    y_pred = np.argmax(Z, axis=1)"
   ]
  },
  {
   "cell_type": "code",
   "execution_count": 62,
   "metadata": {},
   "outputs": [
    {
     "data": {
      "text/plain": [
       "0.8951"
      ]
     },
     "execution_count": 62,
     "metadata": {},
     "output_type": "execute_result"
    }
   ],
   "source": [
    "accuracy_score(y_test, y_pred)"
   ]
  },
  {
   "cell_type": "markdown",
   "metadata": {},
   "source": [
    "- - -\n",
    "## 5. OUTLOOK (5 pts)\n",
    "\n",
    "Plan for the outlook of your system: This will lead to the direction of your future project:\n",
    "- Did your neural network outperform other \"traditional ML technique? Why/why not?\n",
    "- Does your model work well for the future? If not, which model should be further investigated?\n",
    "- Do you satisfy with your system? What do you think needed to improve?\n",
    "\n"
   ]
  },
  {
   "cell_type": "markdown",
   "metadata": {},
   "source": [
    "#Answers\n",
    "- Did your neural network outperform other: My neural network performed better than 90% of the traditional ML techniques. The reason might be the different parameters, the large size of the data, better scaling hence better for image classification, better with large number of features and also faster.\n",
    "- Does your model work well for the future? If not, which model should be further investigated? - It may not work well for future. CNN and RNN may outperform and have an incredible accuracy\n",
    "- Are you satisfy with your system? What do you think needed to improve? - I'm moderately satisfied with this model. However it could be improved by using other type of Optimizers and activation functions as there are many."
   ]
  },
  {
   "cell_type": "markdown",
   "metadata": {},
   "source": [
    "- - - \n",
    "### NEED HELP?"
   ]
  },
  {
   "cell_type": "markdown",
   "metadata": {},
   "source": [
    "In case you get stuck in any step in the process, you may find some useful information from:\n",
    "\n",
    " * Consult my lectures and/or the textbook\n",
    " * Talk to the TA, they are available and there to help you during [office hour](https://docs.google.com/document/d/15qB84xjaS-uRJmfKmmQuCz38bLMFaoqdbuRLoZEdOYI/edit#heading=h.72k1pvft525n)\n",
    " * Come talk to me or email me <nn4pj@virginia.edu> with subject starting \"CS6316 Assignment 3:...\".\n",
    " * More on the Fashion-MNIST to be found here: https://hanxiao.github.io/2018/09/28/Fashion-MNIST-Year-In-Review/\n",
    "\n",
    "Best of luck and have fun!"
   ]
  },
  {
   "cell_type": "code",
   "execution_count": null,
   "metadata": {},
   "outputs": [],
   "source": []
  }
 ],
 "metadata": {
  "kernelspec": {
   "display_name": "Python 3",
   "language": "python",
   "name": "python3"
  },
  "language_info": {
   "codemirror_mode": {
    "name": "ipython",
    "version": 3
   },
   "file_extension": ".py",
   "mimetype": "text/x-python",
   "name": "python",
   "nbconvert_exporter": "python",
   "pygments_lexer": "ipython3",
   "version": "3.6.5"
  }
 },
 "nbformat": 4,
 "nbformat_minor": 2
}
